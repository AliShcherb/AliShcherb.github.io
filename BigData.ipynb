{
  "nbformat": 4,
  "nbformat_minor": 0,
  "metadata": {
    "colab": {
      "provenance": [],
      "authorship_tag": "ABX9TyPDjFvz318LaEX6wW4Ng1ko",
      "include_colab_link": true
    },
    "kernelspec": {
      "name": "python3",
      "display_name": "Python 3"
    },
    "language_info": {
      "name": "python"
    }
  },
  "cells": [
    {
      "cell_type": "markdown",
      "metadata": {
        "id": "view-in-github",
        "colab_type": "text"
      },
      "source": [
        "<a href=\"https://colab.research.google.com/github/AliShcherb/AliShcherb.github.io/blob/side/BigData.ipynb\" target=\"_parent\"><img src=\"https://colab.research.google.com/assets/colab-badge.svg\" alt=\"Open In Colab\"/></a>"
      ]
    },
    {
      "cell_type": "code",
      "execution_count": 8,
      "metadata": {
        "colab": {
          "base_uri": "https://localhost:8080/"
        },
        "id": "iSYbLG-v7hiy",
        "outputId": "b4d2df7d-d740-444c-9852-cf640e7c9593"
      },
      "outputs": [
        {
          "output_type": "stream",
          "name": "stdout",
          "text": [
            "W: Skipping acquire of configured file 'main/source/Sources' as repository 'https://r2u.stat.illinois.edu/ubuntu jammy InRelease' does not seem to provide it (sources.list entry misspelt?)\n",
            "Requirement already satisfied: pyspark in /usr/local/lib/python3.10/dist-packages (3.5.3)\n",
            "Requirement already satisfied: py4j==0.10.9.7 in /usr/local/lib/python3.10/dist-packages (from pyspark) (0.10.9.7)\n"
          ]
        }
      ],
      "source": [
        "!apt-get update -qq\n",
        "!apt-get install openjdk-11-jdk-headless -qq > /dev/null\n",
        "!pip install pyspark\n"
      ]
    },
    {
      "cell_type": "code",
      "source": [
        "\n",
        "\n",
        "from pyspark.sql import SparkSession\n",
        "\n",
        "spark = SparkSession.builder \\\n",
        "    .appName(\"SocialFactorsDepression\") \\\n",
        "    .getOrCreate()\n",
        "\n",
        "print(\"PySpark is ready!\")\n"
      ],
      "metadata": {
        "colab": {
          "base_uri": "https://localhost:8080/"
        },
        "id": "mhOs9pBz7ux8",
        "outputId": "ba9c6ba3-4501-4071-d241-d47b66be6e29"
      },
      "execution_count": 9,
      "outputs": [
        {
          "output_type": "stream",
          "name": "stdout",
          "text": [
            "PySpark is ready!\n"
          ]
        }
      ]
    },
    {
      "cell_type": "code",
      "source": [
        "from google.colab import files\n",
        "\n",
        "uploaded = files.upload()\n",
        "\n",
        "import os\n",
        "print(os.listdir('.'))\n"
      ],
      "metadata": {
        "colab": {
          "base_uri": "https://localhost:8080/",
          "height": 92
        },
        "id": "T7hnpSFscQXl",
        "outputId": "cdd4d0cb-7016-4d59-f650-d9bac3bfa7d2"
      },
      "execution_count": 13,
      "outputs": [
        {
          "output_type": "display_data",
          "data": {
            "text/plain": [
              "<IPython.core.display.HTML object>"
            ],
            "text/html": [
              "\n",
              "     <input type=\"file\" id=\"files-9c5fa192-f507-4f20-a587-704e240692c3\" name=\"files[]\" multiple disabled\n",
              "        style=\"border:none\" />\n",
              "     <output id=\"result-9c5fa192-f507-4f20-a587-704e240692c3\">\n",
              "      Upload widget is only available when the cell has been executed in the\n",
              "      current browser session. Please rerun this cell to enable.\n",
              "      </output>\n",
              "      <script>// Copyright 2017 Google LLC\n",
              "//\n",
              "// Licensed under the Apache License, Version 2.0 (the \"License\");\n",
              "// you may not use this file except in compliance with the License.\n",
              "// You may obtain a copy of the License at\n",
              "//\n",
              "//      http://www.apache.org/licenses/LICENSE-2.0\n",
              "//\n",
              "// Unless required by applicable law or agreed to in writing, software\n",
              "// distributed under the License is distributed on an \"AS IS\" BASIS,\n",
              "// WITHOUT WARRANTIES OR CONDITIONS OF ANY KIND, either express or implied.\n",
              "// See the License for the specific language governing permissions and\n",
              "// limitations under the License.\n",
              "\n",
              "/**\n",
              " * @fileoverview Helpers for google.colab Python module.\n",
              " */\n",
              "(function(scope) {\n",
              "function span(text, styleAttributes = {}) {\n",
              "  const element = document.createElement('span');\n",
              "  element.textContent = text;\n",
              "  for (const key of Object.keys(styleAttributes)) {\n",
              "    element.style[key] = styleAttributes[key];\n",
              "  }\n",
              "  return element;\n",
              "}\n",
              "\n",
              "// Max number of bytes which will be uploaded at a time.\n",
              "const MAX_PAYLOAD_SIZE = 100 * 1024;\n",
              "\n",
              "function _uploadFiles(inputId, outputId) {\n",
              "  const steps = uploadFilesStep(inputId, outputId);\n",
              "  const outputElement = document.getElementById(outputId);\n",
              "  // Cache steps on the outputElement to make it available for the next call\n",
              "  // to uploadFilesContinue from Python.\n",
              "  outputElement.steps = steps;\n",
              "\n",
              "  return _uploadFilesContinue(outputId);\n",
              "}\n",
              "\n",
              "// This is roughly an async generator (not supported in the browser yet),\n",
              "// where there are multiple asynchronous steps and the Python side is going\n",
              "// to poll for completion of each step.\n",
              "// This uses a Promise to block the python side on completion of each step,\n",
              "// then passes the result of the previous step as the input to the next step.\n",
              "function _uploadFilesContinue(outputId) {\n",
              "  const outputElement = document.getElementById(outputId);\n",
              "  const steps = outputElement.steps;\n",
              "\n",
              "  const next = steps.next(outputElement.lastPromiseValue);\n",
              "  return Promise.resolve(next.value.promise).then((value) => {\n",
              "    // Cache the last promise value to make it available to the next\n",
              "    // step of the generator.\n",
              "    outputElement.lastPromiseValue = value;\n",
              "    return next.value.response;\n",
              "  });\n",
              "}\n",
              "\n",
              "/**\n",
              " * Generator function which is called between each async step of the upload\n",
              " * process.\n",
              " * @param {string} inputId Element ID of the input file picker element.\n",
              " * @param {string} outputId Element ID of the output display.\n",
              " * @return {!Iterable<!Object>} Iterable of next steps.\n",
              " */\n",
              "function* uploadFilesStep(inputId, outputId) {\n",
              "  const inputElement = document.getElementById(inputId);\n",
              "  inputElement.disabled = false;\n",
              "\n",
              "  const outputElement = document.getElementById(outputId);\n",
              "  outputElement.innerHTML = '';\n",
              "\n",
              "  const pickedPromise = new Promise((resolve) => {\n",
              "    inputElement.addEventListener('change', (e) => {\n",
              "      resolve(e.target.files);\n",
              "    });\n",
              "  });\n",
              "\n",
              "  const cancel = document.createElement('button');\n",
              "  inputElement.parentElement.appendChild(cancel);\n",
              "  cancel.textContent = 'Cancel upload';\n",
              "  const cancelPromise = new Promise((resolve) => {\n",
              "    cancel.onclick = () => {\n",
              "      resolve(null);\n",
              "    };\n",
              "  });\n",
              "\n",
              "  // Wait for the user to pick the files.\n",
              "  const files = yield {\n",
              "    promise: Promise.race([pickedPromise, cancelPromise]),\n",
              "    response: {\n",
              "      action: 'starting',\n",
              "    }\n",
              "  };\n",
              "\n",
              "  cancel.remove();\n",
              "\n",
              "  // Disable the input element since further picks are not allowed.\n",
              "  inputElement.disabled = true;\n",
              "\n",
              "  if (!files) {\n",
              "    return {\n",
              "      response: {\n",
              "        action: 'complete',\n",
              "      }\n",
              "    };\n",
              "  }\n",
              "\n",
              "  for (const file of files) {\n",
              "    const li = document.createElement('li');\n",
              "    li.append(span(file.name, {fontWeight: 'bold'}));\n",
              "    li.append(span(\n",
              "        `(${file.type || 'n/a'}) - ${file.size} bytes, ` +\n",
              "        `last modified: ${\n",
              "            file.lastModifiedDate ? file.lastModifiedDate.toLocaleDateString() :\n",
              "                                    'n/a'} - `));\n",
              "    const percent = span('0% done');\n",
              "    li.appendChild(percent);\n",
              "\n",
              "    outputElement.appendChild(li);\n",
              "\n",
              "    const fileDataPromise = new Promise((resolve) => {\n",
              "      const reader = new FileReader();\n",
              "      reader.onload = (e) => {\n",
              "        resolve(e.target.result);\n",
              "      };\n",
              "      reader.readAsArrayBuffer(file);\n",
              "    });\n",
              "    // Wait for the data to be ready.\n",
              "    let fileData = yield {\n",
              "      promise: fileDataPromise,\n",
              "      response: {\n",
              "        action: 'continue',\n",
              "      }\n",
              "    };\n",
              "\n",
              "    // Use a chunked sending to avoid message size limits. See b/62115660.\n",
              "    let position = 0;\n",
              "    do {\n",
              "      const length = Math.min(fileData.byteLength - position, MAX_PAYLOAD_SIZE);\n",
              "      const chunk = new Uint8Array(fileData, position, length);\n",
              "      position += length;\n",
              "\n",
              "      const base64 = btoa(String.fromCharCode.apply(null, chunk));\n",
              "      yield {\n",
              "        response: {\n",
              "          action: 'append',\n",
              "          file: file.name,\n",
              "          data: base64,\n",
              "        },\n",
              "      };\n",
              "\n",
              "      let percentDone = fileData.byteLength === 0 ?\n",
              "          100 :\n",
              "          Math.round((position / fileData.byteLength) * 100);\n",
              "      percent.textContent = `${percentDone}% done`;\n",
              "\n",
              "    } while (position < fileData.byteLength);\n",
              "  }\n",
              "\n",
              "  // All done.\n",
              "  yield {\n",
              "    response: {\n",
              "      action: 'complete',\n",
              "    }\n",
              "  };\n",
              "}\n",
              "\n",
              "scope.google = scope.google || {};\n",
              "scope.google.colab = scope.google.colab || {};\n",
              "scope.google.colab._files = {\n",
              "  _uploadFiles,\n",
              "  _uploadFilesContinue,\n",
              "};\n",
              "})(self);\n",
              "</script> "
            ]
          },
          "metadata": {}
        },
        {
          "output_type": "stream",
          "name": "stdout",
          "text": [
            "Saving ESS11.csv to ESS11.csv\n",
            "['.config', 'ESS11.csv', 'sample_data']\n"
          ]
        }
      ]
    },
    {
      "cell_type": "code",
      "source": [
        "df = spark.read.csv(\"ESS11.csv\", header=True, inferSchema=True)\n",
        "\n",
        "df.printSchema()\n",
        "\n",
        "df.show(5)\n"
      ],
      "metadata": {
        "colab": {
          "base_uri": "https://localhost:8080/"
        },
        "id": "UMmb1wTWlnxi",
        "outputId": "98441aa9-5e55-4da2-fd0c-e9b65826bf7a"
      },
      "execution_count": 16,
      "outputs": [
        {
          "output_type": "stream",
          "name": "stdout",
          "text": [
            "root\n",
            " |-- name: string (nullable = true)\n",
            " |-- essround: integer (nullable = true)\n",
            " |-- edition: double (nullable = true)\n",
            " |-- proddate: string (nullable = true)\n",
            " |-- idno: integer (nullable = true)\n",
            " |-- cntry: string (nullable = true)\n",
            " |-- dweight: double (nullable = true)\n",
            " |-- pspwght: double (nullable = true)\n",
            " |-- pweight: double (nullable = true)\n",
            " |-- anweight: double (nullable = true)\n",
            " |-- nwspol: integer (nullable = true)\n",
            " |-- netusoft: integer (nullable = true)\n",
            " |-- netustm: integer (nullable = true)\n",
            " |-- ppltrst: integer (nullable = true)\n",
            " |-- pplfair: integer (nullable = true)\n",
            " |-- pplhlp: integer (nullable = true)\n",
            " |-- polintr: integer (nullable = true)\n",
            " |-- psppsgva: integer (nullable = true)\n",
            " |-- actrolga: integer (nullable = true)\n",
            " |-- psppipla: integer (nullable = true)\n",
            " |-- cptppola: integer (nullable = true)\n",
            " |-- trstprl: integer (nullable = true)\n",
            " |-- trstlgl: integer (nullable = true)\n",
            " |-- trstplc: integer (nullable = true)\n",
            " |-- trstplt: integer (nullable = true)\n",
            " |-- trstprt: integer (nullable = true)\n",
            " |-- trstep: integer (nullable = true)\n",
            " |-- trstun: integer (nullable = true)\n",
            " |-- vote: integer (nullable = true)\n",
            " |-- prtvtdat: integer (nullable = true)\n",
            " |-- prtvtebe: integer (nullable = true)\n",
            " |-- prtvtchr: integer (nullable = true)\n",
            " |-- prtvtccy: integer (nullable = true)\n",
            " |-- prtvtffi: integer (nullable = true)\n",
            " |-- prtvtffr: integer (nullable = true)\n",
            " |-- prtvgde1: integer (nullable = true)\n",
            " |-- prtvgde2: integer (nullable = true)\n",
            " |-- prtvtegr: integer (nullable = true)\n",
            " |-- prtvthhu: integer (nullable = true)\n",
            " |-- prtvteis: integer (nullable = true)\n",
            " |-- prtvteie: integer (nullable = true)\n",
            " |-- prtvteit: integer (nullable = true)\n",
            " |-- prtvclt1: integer (nullable = true)\n",
            " |-- prtvclt2: integer (nullable = true)\n",
            " |-- prtvclt3: integer (nullable = true)\n",
            " |-- prtvtinl: integer (nullable = true)\n",
            " |-- prtvtcno: integer (nullable = true)\n",
            " |-- prtvtfpl: integer (nullable = true)\n",
            " |-- prtvtept: integer (nullable = true)\n",
            " |-- prtvtbrs: integer (nullable = true)\n",
            " |-- prtvtesk: integer (nullable = true)\n",
            " |-- prtvtgsi: integer (nullable = true)\n",
            " |-- prtvtges: integer (nullable = true)\n",
            " |-- prtvtdse: integer (nullable = true)\n",
            " |-- prtvthch: integer (nullable = true)\n",
            " |-- prtvtdgb: integer (nullable = true)\n",
            " |-- contplt: integer (nullable = true)\n",
            " |-- donprty: integer (nullable = true)\n",
            " |-- badge: integer (nullable = true)\n",
            " |-- sgnptit: integer (nullable = true)\n",
            " |-- pbldmna: integer (nullable = true)\n",
            " |-- bctprd: integer (nullable = true)\n",
            " |-- pstplonl: integer (nullable = true)\n",
            " |-- volunfp: integer (nullable = true)\n",
            " |-- clsprty: integer (nullable = true)\n",
            " |-- prtcleat: integer (nullable = true)\n",
            " |-- prtclebe: integer (nullable = true)\n",
            " |-- prtclbhr: integer (nullable = true)\n",
            " |-- prtclccy: integer (nullable = true)\n",
            " |-- prtclgfi: integer (nullable = true)\n",
            " |-- prtclgfr: integer (nullable = true)\n",
            " |-- prtclgde: integer (nullable = true)\n",
            " |-- prtclegr: integer (nullable = true)\n",
            " |-- prtclihu: integer (nullable = true)\n",
            " |-- prtcleis: integer (nullable = true)\n",
            " |-- prtclfie: integer (nullable = true)\n",
            " |-- prtclfit: integer (nullable = true)\n",
            " |-- prtclclt: integer (nullable = true)\n",
            " |-- prtclhnl: integer (nullable = true)\n",
            " |-- prtclcno: integer (nullable = true)\n",
            " |-- prtcljpl: integer (nullable = true)\n",
            " |-- prtclgpt: integer (nullable = true)\n",
            " |-- prtclbrs: integer (nullable = true)\n",
            " |-- prtclesk: integer (nullable = true)\n",
            " |-- prtclgsi: integer (nullable = true)\n",
            " |-- prtclhes: integer (nullable = true)\n",
            " |-- prtcldse: integer (nullable = true)\n",
            " |-- prtclhch: integer (nullable = true)\n",
            " |-- prtcldgb: integer (nullable = true)\n",
            " |-- prtdgcl: integer (nullable = true)\n",
            " |-- lrscale: integer (nullable = true)\n",
            " |-- stflife: integer (nullable = true)\n",
            " |-- stfeco: integer (nullable = true)\n",
            " |-- stfgov: integer (nullable = true)\n",
            " |-- stfdem: integer (nullable = true)\n",
            " |-- stfedu: integer (nullable = true)\n",
            " |-- stfhlth: integer (nullable = true)\n",
            " |-- gincdif: integer (nullable = true)\n",
            " |-- freehms: integer (nullable = true)\n",
            " |-- hmsfmlsh: integer (nullable = true)\n",
            " |-- hmsacld: integer (nullable = true)\n",
            " |-- euftf: integer (nullable = true)\n",
            " |-- lrnobed: integer (nullable = true)\n",
            " |-- loylead: integer (nullable = true)\n",
            " |-- imsmetn: integer (nullable = true)\n",
            " |-- imdfetn: integer (nullable = true)\n",
            " |-- impcntr: integer (nullable = true)\n",
            " |-- imbgeco: integer (nullable = true)\n",
            " |-- imueclt: integer (nullable = true)\n",
            " |-- imwbcnt: integer (nullable = true)\n",
            " |-- happy: integer (nullable = true)\n",
            " |-- sclmeet: integer (nullable = true)\n",
            " |-- inprdsc: integer (nullable = true)\n",
            " |-- sclact: integer (nullable = true)\n",
            " |-- crmvct: integer (nullable = true)\n",
            " |-- aesfdrk: integer (nullable = true)\n",
            " |-- health: integer (nullable = true)\n",
            " |-- hlthhmp: integer (nullable = true)\n",
            " |-- atchctr: integer (nullable = true)\n",
            " |-- atcherp: integer (nullable = true)\n",
            " |-- rlgblg: integer (nullable = true)\n",
            " |-- rlgdnm: integer (nullable = true)\n",
            " |-- rlgdnbat: integer (nullable = true)\n",
            " |-- rlgdnacy: integer (nullable = true)\n",
            " |-- rlgdnafi: integer (nullable = true)\n",
            " |-- rlgdnade: integer (nullable = true)\n",
            " |-- rlgdnagr: integer (nullable = true)\n",
            " |-- rlgdnhu: integer (nullable = true)\n",
            " |-- rlgdnais: integer (nullable = true)\n",
            " |-- rlgdnie: integer (nullable = true)\n",
            " |-- rlgdnlt: integer (nullable = true)\n",
            " |-- rlgdnanl: integer (nullable = true)\n",
            " |-- rlgdnno: integer (nullable = true)\n",
            " |-- rlgdnapl: integer (nullable = true)\n",
            " |-- rlgdnapt: integer (nullable = true)\n",
            " |-- rlgdnrs: integer (nullable = true)\n",
            " |-- rlgdnask: integer (nullable = true)\n",
            " |-- rlgdnase: integer (nullable = true)\n",
            " |-- rlgdnach: integer (nullable = true)\n",
            " |-- rlgdngb: integer (nullable = true)\n",
            " |-- rlgblge: integer (nullable = true)\n",
            " |-- rlgdnme: integer (nullable = true)\n",
            " |-- rlgdebat: integer (nullable = true)\n",
            " |-- rlgdeacy: integer (nullable = true)\n",
            " |-- rlgdeafi: integer (nullable = true)\n",
            " |-- rlgdeade: integer (nullable = true)\n",
            " |-- rlgdeagr: integer (nullable = true)\n",
            " |-- rlgdehu: integer (nullable = true)\n",
            " |-- rlgdeais: integer (nullable = true)\n",
            " |-- rlgdeie: integer (nullable = true)\n",
            " |-- rlgdelt: integer (nullable = true)\n",
            " |-- rlgdeanl: integer (nullable = true)\n",
            " |-- rlgdeno: integer (nullable = true)\n",
            " |-- rlgdeapl: integer (nullable = true)\n",
            " |-- rlgdeapt: integer (nullable = true)\n",
            " |-- rlgders: integer (nullable = true)\n",
            " |-- rlgdeask: integer (nullable = true)\n",
            " |-- rlgdease: integer (nullable = true)\n",
            " |-- rlgdeach: integer (nullable = true)\n",
            " |-- rlgdegb: integer (nullable = true)\n",
            " |-- rlgdgr: integer (nullable = true)\n",
            " |-- rlgatnd: integer (nullable = true)\n",
            " |-- pray: integer (nullable = true)\n",
            " |-- dscrgrp: integer (nullable = true)\n",
            " |-- dscrrce: integer (nullable = true)\n",
            " |-- dscrntn: integer (nullable = true)\n",
            " |-- dscrrlg: integer (nullable = true)\n",
            " |-- dscrlng: integer (nullable = true)\n",
            " |-- dscretn: integer (nullable = true)\n",
            " |-- dscrage: integer (nullable = true)\n",
            " |-- dscrgnd: integer (nullable = true)\n",
            " |-- dscrsex: integer (nullable = true)\n",
            " |-- dscrdsb: integer (nullable = true)\n",
            " |-- dscroth: integer (nullable = true)\n",
            " |-- dscrdk: integer (nullable = true)\n",
            " |-- dscrref: integer (nullable = true)\n",
            " |-- dscrnap: integer (nullable = true)\n",
            " |-- dscrna: integer (nullable = true)\n",
            " |-- ctzcntr: integer (nullable = true)\n",
            " |-- brncntr: integer (nullable = true)\n",
            " |-- cntbrthd: string (nullable = true)\n",
            " |-- livecnta: integer (nullable = true)\n",
            " |-- lnghom1: string (nullable = true)\n",
            " |-- lnghom2: string (nullable = true)\n",
            " |-- feethngr: integer (nullable = true)\n",
            " |-- facntr: integer (nullable = true)\n",
            " |-- fbrncntc: string (nullable = true)\n",
            " |-- mocntr: integer (nullable = true)\n",
            " |-- mbrncntc: string (nullable = true)\n",
            " |-- ccnthum: integer (nullable = true)\n",
            " |-- ccrdprs: integer (nullable = true)\n",
            " |-- wrclmch: integer (nullable = true)\n",
            " |-- admrclc: integer (nullable = true)\n",
            " |-- testjc34: integer (nullable = true)\n",
            " |-- testjc35: integer (nullable = true)\n",
            " |-- testjc36: integer (nullable = true)\n",
            " |-- testjc37: integer (nullable = true)\n",
            " |-- testjc38: integer (nullable = true)\n",
            " |-- testjc39: integer (nullable = true)\n",
            " |-- testjc40: integer (nullable = true)\n",
            " |-- testjc41: integer (nullable = true)\n",
            " |-- testjc42: integer (nullable = true)\n",
            " |-- vteurmmb: integer (nullable = true)\n",
            " |-- vteubcmb: integer (nullable = true)\n",
            " |-- ctrlife: integer (nullable = true)\n",
            " |-- etfruit: integer (nullable = true)\n",
            " |-- eatveg: integer (nullable = true)\n",
            " |-- dosprt: integer (nullable = true)\n",
            " |-- cgtsmok: integer (nullable = true)\n",
            " |-- alcfreq: integer (nullable = true)\n",
            " |-- alcwkdy: double (nullable = true)\n",
            " |-- alcwknd: double (nullable = true)\n",
            " |-- icgndra: integer (nullable = true)\n",
            " |-- alcbnge: integer (nullable = true)\n",
            " |-- height: integer (nullable = true)\n",
            " |-- weighta: integer (nullable = true)\n",
            " |-- dshltgp: integer (nullable = true)\n",
            " |-- dshltms: integer (nullable = true)\n",
            " |-- dshltnt: integer (nullable = true)\n",
            " |-- dshltref: integer (nullable = true)\n",
            " |-- dshltdk: integer (nullable = true)\n",
            " |-- dshltna: integer (nullable = true)\n",
            " |-- medtrun: integer (nullable = true)\n",
            " |-- medtrnp: integer (nullable = true)\n",
            " |-- medtrnt: integer (nullable = true)\n",
            " |-- medtroc: integer (nullable = true)\n",
            " |-- medtrnl: integer (nullable = true)\n",
            " |-- medtrwl: integer (nullable = true)\n",
            " |-- medtrnaa: integer (nullable = true)\n",
            " |-- medtroth: integer (nullable = true)\n",
            " |-- medtrnap: integer (nullable = true)\n",
            " |-- medtrref: integer (nullable = true)\n",
            " |-- medtrdk: integer (nullable = true)\n",
            " |-- medtrna: integer (nullable = true)\n",
            " |-- medtrnu: integer (nullable = true)\n",
            " |-- hlpfmly: integer (nullable = true)\n",
            " |-- hlpfmhr: integer (nullable = true)\n",
            " |-- trhltacu: integer (nullable = true)\n",
            " |-- trhltacp: integer (nullable = true)\n",
            " |-- trhltcm: integer (nullable = true)\n",
            " |-- trhltch: integer (nullable = true)\n",
            " |-- trhltos: integer (nullable = true)\n",
            " |-- trhltho: integer (nullable = true)\n",
            " |-- trhltht: integer (nullable = true)\n",
            " |-- trhlthy: integer (nullable = true)\n",
            " |-- trhltmt: integer (nullable = true)\n",
            " |-- trhltpt: integer (nullable = true)\n",
            " |-- trhltre: integer (nullable = true)\n",
            " |-- trhltsh: integer (nullable = true)\n",
            " |-- trhltnt: integer (nullable = true)\n",
            " |-- trhltref: integer (nullable = true)\n",
            " |-- trhltdk: integer (nullable = true)\n",
            " |-- trhltna: integer (nullable = true)\n",
            " |-- fltdpr: integer (nullable = true)\n",
            " |-- flteeff: integer (nullable = true)\n",
            " |-- slprl: integer (nullable = true)\n",
            " |-- wrhpp: integer (nullable = true)\n",
            " |-- fltlnl: integer (nullable = true)\n",
            " |-- enjlf: integer (nullable = true)\n",
            " |-- fltsd: integer (nullable = true)\n",
            " |-- cldgng: integer (nullable = true)\n",
            " |-- hltprhc: integer (nullable = true)\n",
            " |-- hltprhb: integer (nullable = true)\n",
            " |-- hltprbp: integer (nullable = true)\n",
            " |-- hltpral: integer (nullable = true)\n",
            " |-- hltprbn: integer (nullable = true)\n",
            " |-- hltprpa: integer (nullable = true)\n",
            " |-- hltprpf: integer (nullable = true)\n",
            " |-- hltprsd: integer (nullable = true)\n",
            " |-- hltprsc: integer (nullable = true)\n",
            " |-- hltprsh: integer (nullable = true)\n",
            " |-- hltprdi: integer (nullable = true)\n",
            " |-- hltprnt: integer (nullable = true)\n",
            " |-- hltprref: integer (nullable = true)\n",
            " |-- hltprdk: integer (nullable = true)\n",
            " |-- hltprna: integer (nullable = true)\n",
            " |-- hltphhc: integer (nullable = true)\n",
            " |-- hltphhb: integer (nullable = true)\n",
            " |-- hltphbp: integer (nullable = true)\n",
            " |-- hltphal: integer (nullable = true)\n",
            " |-- hltphbn: integer (nullable = true)\n",
            " |-- hltphpa: integer (nullable = true)\n",
            " |-- hltphpf: integer (nullable = true)\n",
            " |-- hltphsd: integer (nullable = true)\n",
            " |-- hltphsc: integer (nullable = true)\n",
            " |-- hltphsh: integer (nullable = true)\n",
            " |-- hltphdi: integer (nullable = true)\n",
            " |-- hltphnt: integer (nullable = true)\n",
            " |-- hltphnap: integer (nullable = true)\n",
            " |-- hltphref: integer (nullable = true)\n",
            " |-- hltphdk: integer (nullable = true)\n",
            " |-- hltphna: integer (nullable = true)\n",
            " |-- hltprca: integer (nullable = true)\n",
            " |-- cancfre: integer (nullable = true)\n",
            " |-- cnfpplh: integer (nullable = true)\n",
            " |-- fnsdfml: integer (nullable = true)\n",
            " |-- jbexpvi: integer (nullable = true)\n",
            " |-- jbexpti: integer (nullable = true)\n",
            " |-- jbexpml: integer (nullable = true)\n",
            " |-- jbexpmc: integer (nullable = true)\n",
            " |-- jbexpnt: integer (nullable = true)\n",
            " |-- jbexpnap: integer (nullable = true)\n",
            " |-- jbexpref: integer (nullable = true)\n",
            " |-- jbexpdk: integer (nullable = true)\n",
            " |-- jbexpna: integer (nullable = true)\n",
            " |-- jbexevl: integer (nullable = true)\n",
            " |-- jbexevh: integer (nullable = true)\n",
            " |-- jbexevc: integer (nullable = true)\n",
            " |-- jbexera: integer (nullable = true)\n",
            " |-- jbexecp: integer (nullable = true)\n",
            " |-- jbexebs: integer (nullable = true)\n",
            " |-- jbexent: integer (nullable = true)\n",
            " |-- jbexenap: integer (nullable = true)\n",
            " |-- jbexeref: integer (nullable = true)\n",
            " |-- jbexedk: integer (nullable = true)\n",
            " |-- jbexena: integer (nullable = true)\n",
            " |-- nobingnd: integer (nullable = true)\n",
            " |-- likrisk: integer (nullable = true)\n",
            " |-- liklead: integer (nullable = true)\n",
            " |-- sothnds: integer (nullable = true)\n",
            " |-- actcomp: integer (nullable = true)\n",
            " |-- mascfel: integer (nullable = true)\n",
            " |-- femifel: integer (nullable = true)\n",
            " |-- impbemw: integer (nullable = true)\n",
            " |-- trmedmw: integer (nullable = true)\n",
            " |-- trwrkmw: integer (nullable = true)\n",
            " |-- trplcmw: integer (nullable = true)\n",
            " |-- trmdcnt: integer (nullable = true)\n",
            " |-- trwkcnt: integer (nullable = true)\n",
            " |-- trplcnt: integer (nullable = true)\n",
            " |-- eqwrkbg: integer (nullable = true)\n",
            " |-- eqpolbg: integer (nullable = true)\n",
            " |-- eqmgmbg: integer (nullable = true)\n",
            " |-- eqpaybg: integer (nullable = true)\n",
            " |-- eqparep: integer (nullable = true)\n",
            " |-- eqparlv: integer (nullable = true)\n",
            " |-- freinsw: integer (nullable = true)\n",
            " |-- fineqpy: integer (nullable = true)\n",
            " |-- wsekpwr: integer (nullable = true)\n",
            " |-- weasoff: integer (nullable = true)\n",
            " |-- wlespdm: integer (nullable = true)\n",
            " |-- wexashr: integer (nullable = true)\n",
            " |-- wprtbym: integer (nullable = true)\n",
            " |-- wbrgwrm: integer (nullable = true)\n",
            " |-- hhmmb: integer (nullable = true)\n",
            " |-- gndr: integer (nullable = true)\n",
            " |-- gndr2: integer (nullable = true)\n",
            " |-- gndr3: integer (nullable = true)\n",
            " |-- gndr4: integer (nullable = true)\n",
            " |-- gndr5: integer (nullable = true)\n",
            " |-- gndr6: integer (nullable = true)\n",
            " |-- gndr7: integer (nullable = true)\n",
            " |-- gndr8: integer (nullable = true)\n",
            " |-- gndr9: integer (nullable = true)\n",
            " |-- gndr10: integer (nullable = true)\n",
            " |-- gndr11: integer (nullable = true)\n",
            " |-- gndr12: integer (nullable = true)\n",
            " |-- yrbrn: integer (nullable = true)\n",
            " |-- agea: integer (nullable = true)\n",
            " |-- yrbrn2: integer (nullable = true)\n",
            " |-- yrbrn3: integer (nullable = true)\n",
            " |-- yrbrn4: integer (nullable = true)\n",
            " |-- yrbrn5: integer (nullable = true)\n",
            " |-- yrbrn6: integer (nullable = true)\n",
            " |-- yrbrn7: integer (nullable = true)\n",
            " |-- yrbrn8: integer (nullable = true)\n",
            " |-- yrbrn9: integer (nullable = true)\n",
            " |-- yrbrn10: integer (nullable = true)\n",
            " |-- yrbrn11: integer (nullable = true)\n",
            " |-- yrbrn12: integer (nullable = true)\n",
            " |-- rshipa2: integer (nullable = true)\n",
            " |-- rshipa3: integer (nullable = true)\n",
            " |-- rshipa4: integer (nullable = true)\n",
            " |-- rshipa5: integer (nullable = true)\n",
            " |-- rshipa6: integer (nullable = true)\n",
            " |-- rshipa7: integer (nullable = true)\n",
            " |-- rshipa8: integer (nullable = true)\n",
            " |-- rshipa9: integer (nullable = true)\n",
            " |-- rshipa10: integer (nullable = true)\n",
            " |-- rshipa11: integer (nullable = true)\n",
            " |-- rshipa12: integer (nullable = true)\n",
            " |-- rshpsts: integer (nullable = true)\n",
            " |-- rshpsgb: integer (nullable = true)\n",
            " |-- lvgptnea: integer (nullable = true)\n",
            " |-- dvrcdeva: integer (nullable = true)\n",
            " |-- marsts: integer (nullable = true)\n",
            " |-- marstgb: integer (nullable = true)\n",
            " |-- maritalb: integer (nullable = true)\n",
            " |-- chldhhe: integer (nullable = true)\n",
            " |-- domicil: integer (nullable = true)\n",
            " |-- paccmoro: integer (nullable = true)\n",
            " |-- paccdwlr: integer (nullable = true)\n",
            " |-- pacclift: integer (nullable = true)\n",
            " |-- paccnbsh: integer (nullable = true)\n",
            " |-- paccocrw: integer (nullable = true)\n",
            " |-- paccxhoc: integer (nullable = true)\n",
            " |-- paccnois: integer (nullable = true)\n",
            " |-- paccinro: integer (nullable = true)\n",
            " |-- paccnt: integer (nullable = true)\n",
            " |-- paccref: integer (nullable = true)\n",
            " |-- paccdk: integer (nullable = true)\n",
            " |-- paccna: integer (nullable = true)\n",
            " |-- edulvlb: integer (nullable = true)\n",
            " |-- eisced: integer (nullable = true)\n",
            " |-- edlveat: integer (nullable = true)\n",
            " |-- edlvebe: integer (nullable = true)\n",
            " |-- edlvehr: integer (nullable = true)\n",
            " |-- edlvgcy: integer (nullable = true)\n",
            " |-- edlvdfi: integer (nullable = true)\n",
            " |-- edlvdfr: integer (nullable = true)\n",
            " |-- edudde1: integer (nullable = true)\n",
            " |-- educde2: integer (nullable = true)\n",
            " |-- edlvegr: integer (nullable = true)\n",
            " |-- edlvdahu: integer (nullable = true)\n",
            " |-- edlvdis: integer (nullable = true)\n",
            " |-- edlvdie: integer (nullable = true)\n",
            " |-- edlvfit: integer (nullable = true)\n",
            " |-- edlvdlt: integer (nullable = true)\n",
            " |-- edlvenl: integer (nullable = true)\n",
            " |-- edlveno: integer (nullable = true)\n",
            " |-- edlvipl: integer (nullable = true)\n",
            " |-- edlvept: integer (nullable = true)\n",
            " |-- edlvdrs: integer (nullable = true)\n",
            " |-- edlvdsk: integer (nullable = true)\n",
            " |-- edlvesi: integer (nullable = true)\n",
            " |-- edlvies: integer (nullable = true)\n",
            " |-- edlvdse: integer (nullable = true)\n",
            " |-- edlvdch: integer (nullable = true)\n",
            " |-- educgb1: integer (nullable = true)\n",
            " |-- edubgb2: integer (nullable = true)\n",
            " |-- edagegb: integer (nullable = true)\n",
            " |-- eduyrs: integer (nullable = true)\n",
            " |-- pdwrk: integer (nullable = true)\n",
            " |-- edctn: integer (nullable = true)\n",
            " |-- uempla: integer (nullable = true)\n",
            " |-- uempli: integer (nullable = true)\n",
            " |-- dsbld: integer (nullable = true)\n",
            " |-- rtrd: integer (nullable = true)\n",
            " |-- cmsrv: integer (nullable = true)\n",
            " |-- hswrk: integer (nullable = true)\n",
            " |-- dngoth: integer (nullable = true)\n",
            " |-- dngref: integer (nullable = true)\n",
            " |-- dngdk: integer (nullable = true)\n",
            " |-- dngna: integer (nullable = true)\n",
            " |-- mainact: integer (nullable = true)\n",
            " |-- mnactic: integer (nullable = true)\n",
            " |-- crpdwk: integer (nullable = true)\n",
            " |-- pdjobev: integer (nullable = true)\n",
            " |-- pdjobyr: integer (nullable = true)\n",
            " |-- emplrel: integer (nullable = true)\n",
            " |-- emplno: integer (nullable = true)\n",
            " |-- wrkctra: integer (nullable = true)\n",
            " |-- estsz: integer (nullable = true)\n",
            " |-- jbspv: integer (nullable = true)\n",
            " |-- njbspv: integer (nullable = true)\n",
            " |-- wkdcorga: integer (nullable = true)\n",
            " |-- iorgact: integer (nullable = true)\n",
            " |-- wkhct: integer (nullable = true)\n",
            " |-- wkhtot: integer (nullable = true)\n",
            " |-- nacer2: integer (nullable = true)\n",
            " |-- tporgwk: integer (nullable = true)\n",
            " |-- isco08: integer (nullable = true)\n",
            " |-- wrkac6m: integer (nullable = true)\n",
            " |-- uemp3m: integer (nullable = true)\n",
            " |-- uemp12m: integer (nullable = true)\n",
            " |-- uemp5yr: integer (nullable = true)\n",
            " |-- mbtru: integer (nullable = true)\n",
            " |-- hincsrca: integer (nullable = true)\n",
            " |-- hinctnta: integer (nullable = true)\n",
            " |-- hincfel: integer (nullable = true)\n",
            " |-- edulvlpb: integer (nullable = true)\n",
            " |-- eiscedp: integer (nullable = true)\n",
            " |-- edlvpfat: integer (nullable = true)\n",
            " |-- edlvpebe: integer (nullable = true)\n",
            " |-- edlvpehr: integer (nullable = true)\n",
            " |-- edlvpgcy: integer (nullable = true)\n",
            " |-- edlvpdfi: integer (nullable = true)\n",
            " |-- edlvpdfr: integer (nullable = true)\n",
            " |-- edupdde1: integer (nullable = true)\n",
            " |-- edupcde2: integer (nullable = true)\n",
            " |-- edlvpegr: integer (nullable = true)\n",
            " |-- edlvpdahu: integer (nullable = true)\n",
            " |-- edlvpdis: integer (nullable = true)\n",
            " |-- edlvpdie: integer (nullable = true)\n",
            " |-- edlvpfit: integer (nullable = true)\n",
            " |-- edlvpdlt: integer (nullable = true)\n",
            " |-- edlvpenl: integer (nullable = true)\n",
            " |-- edlvpeno: integer (nullable = true)\n",
            " |-- edlvphpl: integer (nullable = true)\n",
            " |-- edlvpept: integer (nullable = true)\n",
            " |-- edlvpdrs: integer (nullable = true)\n",
            " |-- edlvpdsk: integer (nullable = true)\n",
            " |-- edlvpesi: integer (nullable = true)\n",
            " |-- edlvphes: integer (nullable = true)\n",
            " |-- edlvpdse: integer (nullable = true)\n",
            " |-- edlvpdch: integer (nullable = true)\n",
            " |-- edupcgb1: integer (nullable = true)\n",
            " |-- edupbgb2: integer (nullable = true)\n",
            " |-- edagepgb: integer (nullable = true)\n",
            " |-- pdwrkp: integer (nullable = true)\n",
            " |-- edctnp: integer (nullable = true)\n",
            " |-- uemplap: integer (nullable = true)\n",
            " |-- uemplip: integer (nullable = true)\n",
            " |-- dsbldp: integer (nullable = true)\n",
            " |-- rtrdp: integer (nullable = true)\n",
            " |-- cmsrvp: integer (nullable = true)\n",
            " |-- hswrkp: integer (nullable = true)\n",
            " |-- dngothp: integer (nullable = true)\n",
            " |-- dngdkp: integer (nullable = true)\n",
            " |-- dngnapp: integer (nullable = true)\n",
            " |-- dngrefp: integer (nullable = true)\n",
            " |-- dngnap: integer (nullable = true)\n",
            " |-- mnactp: integer (nullable = true)\n",
            " |-- crpdwkp: integer (nullable = true)\n",
            " |-- isco08p: integer (nullable = true)\n",
            " |-- emprelp: integer (nullable = true)\n",
            " |-- wkhtotp: integer (nullable = true)\n",
            " |-- edulvlfb: integer (nullable = true)\n",
            " |-- eiscedf: integer (nullable = true)\n",
            " |-- edlvfeat: integer (nullable = true)\n",
            " |-- edlvfebe: integer (nullable = true)\n",
            " |-- edlvfehr: integer (nullable = true)\n",
            " |-- edlvfgcy: integer (nullable = true)\n",
            " |-- edlvfdfi: integer (nullable = true)\n",
            " |-- edlvfdfr: integer (nullable = true)\n",
            " |-- edufcde1: integer (nullable = true)\n",
            " |-- edufbde2: integer (nullable = true)\n",
            " |-- edlvfegr: integer (nullable = true)\n",
            " |-- edlvfdahu: integer (nullable = true)\n",
            " |-- edlvfdis: integer (nullable = true)\n",
            " |-- edlvfdie: integer (nullable = true)\n",
            " |-- edlvffit: integer (nullable = true)\n",
            " |-- edlvfdlt: integer (nullable = true)\n",
            " |-- edlvfenl: integer (nullable = true)\n",
            " |-- edlvfeno: integer (nullable = true)\n",
            " |-- edlvfgpl: integer (nullable = true)\n",
            " |-- edlvfept: integer (nullable = true)\n",
            " |-- edlvfdrs: integer (nullable = true)\n",
            " |-- edlvfdsk: integer (nullable = true)\n",
            " |-- edlvfesi: integer (nullable = true)\n",
            " |-- edlvfges: integer (nullable = true)\n",
            " |-- edlvfdse: integer (nullable = true)\n",
            " |-- edlvfdch: integer (nullable = true)\n",
            " |-- edufcgb1: integer (nullable = true)\n",
            " |-- edufbgb2: integer (nullable = true)\n",
            " |-- edagefgb: integer (nullable = true)\n",
            " |-- emprf14: integer (nullable = true)\n",
            " |-- occf14b: integer (nullable = true)\n",
            " |-- edulvlmb: integer (nullable = true)\n",
            " |-- eiscedm: integer (nullable = true)\n",
            " |-- edlvmeat: integer (nullable = true)\n",
            " |-- edlvmebe: integer (nullable = true)\n",
            " |-- edlvmehr: integer (nullable = true)\n",
            " |-- edlvmgcy: integer (nullable = true)\n",
            " |-- edlvmdfi: integer (nullable = true)\n",
            " |-- edlvmdfr: integer (nullable = true)\n",
            " |-- edumcde1: integer (nullable = true)\n",
            " |-- edumbde2: integer (nullable = true)\n",
            " |-- edlvmegr: integer (nullable = true)\n",
            " |-- edlvmdahu: integer (nullable = true)\n",
            " |-- edlvmdis: integer (nullable = true)\n",
            " |-- edlvmdie: integer (nullable = true)\n",
            " |-- edlvmfit: integer (nullable = true)\n",
            " |-- edlvmdlt: integer (nullable = true)\n",
            " |-- edlvmenl: integer (nullable = true)\n",
            " |-- edlvmeno: integer (nullable = true)\n",
            " |-- edlvmgpl: integer (nullable = true)\n",
            " |-- edlvmept: integer (nullable = true)\n",
            " |-- edlvmdrs: integer (nullable = true)\n",
            " |-- edlvmdsk: integer (nullable = true)\n",
            " |-- edlvmesi: integer (nullable = true)\n",
            " |-- edlvmges: integer (nullable = true)\n",
            " |-- edlvmdse: integer (nullable = true)\n",
            " |-- edlvmdch: integer (nullable = true)\n",
            " |-- edumcgb1: integer (nullable = true)\n",
            " |-- edumbgb2: integer (nullable = true)\n",
            " |-- edagemgb: integer (nullable = true)\n",
            " |-- emprm14: integer (nullable = true)\n",
            " |-- occm14b: integer (nullable = true)\n",
            " |-- atncrse: integer (nullable = true)\n",
            " |-- anctrya1: integer (nullable = true)\n",
            " |-- anctrya2: integer (nullable = true)\n",
            " |-- regunit: integer (nullable = true)\n",
            " |-- region: string (nullable = true)\n",
            " |-- ipcrtiva: integer (nullable = true)\n",
            " |-- impricha: integer (nullable = true)\n",
            " |-- ipeqopta: integer (nullable = true)\n",
            " |-- ipshabta: integer (nullable = true)\n",
            " |-- impsafea: integer (nullable = true)\n",
            " |-- impdiffa: integer (nullable = true)\n",
            " |-- ipfrulea: integer (nullable = true)\n",
            " |-- ipudrsta: integer (nullable = true)\n",
            " |-- ipmodsta: integer (nullable = true)\n",
            " |-- ipgdtima: integer (nullable = true)\n",
            " |-- impfreea: integer (nullable = true)\n",
            " |-- iphlppla: integer (nullable = true)\n",
            " |-- ipsucesa: integer (nullable = true)\n",
            " |-- ipstrgva: integer (nullable = true)\n",
            " |-- ipadvnta: integer (nullable = true)\n",
            " |-- ipbhprpa: integer (nullable = true)\n",
            " |-- iprspota: integer (nullable = true)\n",
            " |-- iplylfra: integer (nullable = true)\n",
            " |-- impenva: integer (nullable = true)\n",
            " |-- imptrada: integer (nullable = true)\n",
            " |-- impfuna: integer (nullable = true)\n",
            " |-- testji1: integer (nullable = true)\n",
            " |-- testji2: integer (nullable = true)\n",
            " |-- testji3: integer (nullable = true)\n",
            " |-- testji4: integer (nullable = true)\n",
            " |-- testji5: integer (nullable = true)\n",
            " |-- testji6: integer (nullable = true)\n",
            " |-- testji7: integer (nullable = true)\n",
            " |-- testji8: integer (nullable = true)\n",
            " |-- testji9: integer (nullable = true)\n",
            " |-- respc19a: integer (nullable = true)\n",
            " |-- symtc19: integer (nullable = true)\n",
            " |-- symtnc19: integer (nullable = true)\n",
            " |-- vacc19: integer (nullable = true)\n",
            " |-- recon: integer (nullable = true)\n",
            " |-- inwds: timestamp (nullable = true)\n",
            " |-- ainws: timestamp (nullable = true)\n",
            " |-- ainwe: timestamp (nullable = true)\n",
            " |-- binwe: timestamp (nullable = true)\n",
            " |-- cinwe: timestamp (nullable = true)\n",
            " |-- dinwe: timestamp (nullable = true)\n",
            " |-- einwe: timestamp (nullable = true)\n",
            " |-- finwe: timestamp (nullable = true)\n",
            " |-- hinwe: timestamp (nullable = true)\n",
            " |-- iinwe: timestamp (nullable = true)\n",
            " |-- kinwe: timestamp (nullable = true)\n",
            " |-- rinwe: timestamp (nullable = true)\n",
            " |-- inwde: timestamp (nullable = true)\n",
            " |-- jinws: timestamp (nullable = true)\n",
            " |-- jinwe: timestamp (nullable = true)\n",
            " |-- inwtm: integer (nullable = true)\n",
            " |-- mode: integer (nullable = true)\n",
            " |-- domain: integer (nullable = true)\n",
            " |-- prob: double (nullable = true)\n",
            " |-- stratum: integer (nullable = true)\n",
            " |-- psu: integer (nullable = true)\n",
            "\n",
            "+--------+--------+-------+----------+-----+-----+---------+----------+----------+-----------+------+--------+-------+-------+-------+------+-------+--------+--------+--------+--------+-------+-------+-------+-------+-------+------+------+----+--------+--------+--------+--------+--------+--------+--------+--------+--------+--------+--------+--------+--------+--------+--------+--------+--------+--------+--------+--------+--------+--------+--------+--------+--------+--------+--------+-------+-------+-----+-------+-------+------+--------+-------+-------+--------+--------+--------+--------+--------+--------+--------+--------+--------+--------+--------+--------+--------+--------+--------+--------+--------+--------+--------+--------+--------+--------+--------+--------+-------+-------+-------+------+------+------+------+-------+-------+-------+--------+-------+-----+-------+-------+-------+-------+-------+-------+-------+-------+-----+-------+-------+------+------+-------+------+-------+-------+-------+------+------+--------+--------+--------+--------+--------+-------+--------+-------+-------+--------+-------+--------+--------+-------+--------+--------+--------+-------+-------+-------+--------+--------+--------+--------+--------+-------+--------+-------+-------+--------+-------+--------+--------+-------+--------+--------+--------+-------+------+-------+----+-------+-------+-------+-------+-------+-------+-------+-------+-------+-------+-------+------+-------+-------+------+-------+-------+--------+--------+-------+-------+--------+------+--------+------+--------+-------+-------+-------+-------+--------+--------+--------+--------+--------+--------+--------+--------+--------+--------+--------+-------+-------+------+------+-------+-------+-------+-------+-------+-------+------+-------+-------+-------+-------+--------+-------+-------+-------+-------+-------+-------+-------+-------+--------+--------+--------+--------+-------+-------+-------+-------+-------+--------+--------+-------+-------+-------+-------+-------+-------+-------+-------+-------+-------+-------+--------+-------+-------+------+-------+-----+-----+------+-----+-----+------+-------+-------+-------+-------+-------+-------+-------+-------+-------+-------+-------+-------+--------+-------+-------+-------+-------+-------+-------+-------+-------+-------+-------+-------+-------+-------+-------+--------+--------+-------+-------+-------+-------+-------+-------+-------+-------+-------+-------+-------+--------+--------+-------+-------+-------+-------+-------+-------+-------+-------+-------+--------+--------+-------+-------+--------+-------+-------+-------+-------+-------+-------+-------+-------+-------+-------+-------+-------+-------+-------+-------+-------+-------+-------+-------+-------+-------+-------+-------+-------+-------+-------+-------+-----+----+-----+-----+-----+-----+-----+-----+-----+-----+------+------+------+-----+----+------+------+------+------+------+------+------+------+-------+-------+-------+-------+-------+-------+-------+-------+-------+-------+-------+--------+--------+--------+-------+-------+--------+--------+------+-------+--------+-------+-------+--------+--------+--------+--------+--------+--------+--------+--------+------+-------+------+------+-------+------+-------+-------+-------+-------+-------+-------+-------+-------+-------+--------+-------+-------+-------+-------+-------+-------+-------+-------+-------+-------+-------+-------+-------+-------+-------+-------+-------+------+-----+-----+------+------+-----+----+-----+-----+------+------+-----+-----+-------+-------+------+-------+-------+-------+------+-------+-----+-----+------+--------+-------+-----+------+------+-------+------+-------+------+-------+-------+-----+--------+--------+-------+--------+-------+--------+--------+--------+--------+--------+--------+--------+--------+--------+---------+--------+--------+--------+--------+--------+--------+--------+--------+--------+--------+--------+--------+--------+--------+--------+--------+--------+------+------+-------+-------+------+-----+------+------+-------+------+-------+-------+------+------+-------+-------+-------+-------+--------+-------+--------+--------+--------+--------+--------+--------+--------+--------+--------+---------+--------+--------+--------+--------+--------+--------+--------+--------+--------+--------+--------+--------+--------+--------+--------+--------+--------+-------+-------+--------+-------+--------+--------+--------+--------+--------+--------+--------+--------+--------+---------+--------+--------+--------+--------+--------+--------+--------+--------+--------+--------+--------+--------+--------+--------+--------+--------+--------+-------+-------+-------+--------+--------+-------+------+--------+--------+--------+--------+--------+--------+--------+--------+--------+--------+--------+--------+--------+--------+--------+--------+--------+--------+-------+--------+-------+-------+-------+-------+-------+-------+-------+-------+-------+-------+--------+-------+--------+------+-----+-------------------+-------------------+-------------------+-------------------+-------------------+-------------------+-------------------+-------------------+-------------------+-------------------+-------------------+-----+-------------------+-------------------+-------------------+-----+----+------+------------+-------+---+\n",
            "|    name|essround|edition|  proddate| idno|cntry|  dweight|   pspwght|   pweight|   anweight|nwspol|netusoft|netustm|ppltrst|pplfair|pplhlp|polintr|psppsgva|actrolga|psppipla|cptppola|trstprl|trstlgl|trstplc|trstplt|trstprt|trstep|trstun|vote|prtvtdat|prtvtebe|prtvtchr|prtvtccy|prtvtffi|prtvtffr|prtvgde1|prtvgde2|prtvtegr|prtvthhu|prtvteis|prtvteie|prtvteit|prtvclt1|prtvclt2|prtvclt3|prtvtinl|prtvtcno|prtvtfpl|prtvtept|prtvtbrs|prtvtesk|prtvtgsi|prtvtges|prtvtdse|prtvthch|prtvtdgb|contplt|donprty|badge|sgnptit|pbldmna|bctprd|pstplonl|volunfp|clsprty|prtcleat|prtclebe|prtclbhr|prtclccy|prtclgfi|prtclgfr|prtclgde|prtclegr|prtclihu|prtcleis|prtclfie|prtclfit|prtclclt|prtclhnl|prtclcno|prtcljpl|prtclgpt|prtclbrs|prtclesk|prtclgsi|prtclhes|prtcldse|prtclhch|prtcldgb|prtdgcl|lrscale|stflife|stfeco|stfgov|stfdem|stfedu|stfhlth|gincdif|freehms|hmsfmlsh|hmsacld|euftf|lrnobed|loylead|imsmetn|imdfetn|impcntr|imbgeco|imueclt|imwbcnt|happy|sclmeet|inprdsc|sclact|crmvct|aesfdrk|health|hlthhmp|atchctr|atcherp|rlgblg|rlgdnm|rlgdnbat|rlgdnacy|rlgdnafi|rlgdnade|rlgdnagr|rlgdnhu|rlgdnais|rlgdnie|rlgdnlt|rlgdnanl|rlgdnno|rlgdnapl|rlgdnapt|rlgdnrs|rlgdnask|rlgdnase|rlgdnach|rlgdngb|rlgblge|rlgdnme|rlgdebat|rlgdeacy|rlgdeafi|rlgdeade|rlgdeagr|rlgdehu|rlgdeais|rlgdeie|rlgdelt|rlgdeanl|rlgdeno|rlgdeapl|rlgdeapt|rlgders|rlgdeask|rlgdease|rlgdeach|rlgdegb|rlgdgr|rlgatnd|pray|dscrgrp|dscrrce|dscrntn|dscrrlg|dscrlng|dscretn|dscrage|dscrgnd|dscrsex|dscrdsb|dscroth|dscrdk|dscrref|dscrnap|dscrna|ctzcntr|brncntr|cntbrthd|livecnta|lnghom1|lnghom2|feethngr|facntr|fbrncntc|mocntr|mbrncntc|ccnthum|ccrdprs|wrclmch|admrclc|testjc34|testjc35|testjc36|testjc37|testjc38|testjc39|testjc40|testjc41|testjc42|vteurmmb|vteubcmb|ctrlife|etfruit|eatveg|dosprt|cgtsmok|alcfreq|alcwkdy|alcwknd|icgndra|alcbnge|height|weighta|dshltgp|dshltms|dshltnt|dshltref|dshltdk|dshltna|medtrun|medtrnp|medtrnt|medtroc|medtrnl|medtrwl|medtrnaa|medtroth|medtrnap|medtrref|medtrdk|medtrna|medtrnu|hlpfmly|hlpfmhr|trhltacu|trhltacp|trhltcm|trhltch|trhltos|trhltho|trhltht|trhlthy|trhltmt|trhltpt|trhltre|trhltsh|trhltnt|trhltref|trhltdk|trhltna|fltdpr|flteeff|slprl|wrhpp|fltlnl|enjlf|fltsd|cldgng|hltprhc|hltprhb|hltprbp|hltpral|hltprbn|hltprpa|hltprpf|hltprsd|hltprsc|hltprsh|hltprdi|hltprnt|hltprref|hltprdk|hltprna|hltphhc|hltphhb|hltphbp|hltphal|hltphbn|hltphpa|hltphpf|hltphsd|hltphsc|hltphsh|hltphdi|hltphnt|hltphnap|hltphref|hltphdk|hltphna|hltprca|cancfre|cnfpplh|fnsdfml|jbexpvi|jbexpti|jbexpml|jbexpmc|jbexpnt|jbexpnap|jbexpref|jbexpdk|jbexpna|jbexevl|jbexevh|jbexevc|jbexera|jbexecp|jbexebs|jbexent|jbexenap|jbexeref|jbexedk|jbexena|nobingnd|likrisk|liklead|sothnds|actcomp|mascfel|femifel|impbemw|trmedmw|trwrkmw|trplcmw|trmdcnt|trwkcnt|trplcnt|eqwrkbg|eqpolbg|eqmgmbg|eqpaybg|eqparep|eqparlv|freinsw|fineqpy|wsekpwr|weasoff|wlespdm|wexashr|wprtbym|wbrgwrm|hhmmb|gndr|gndr2|gndr3|gndr4|gndr5|gndr6|gndr7|gndr8|gndr9|gndr10|gndr11|gndr12|yrbrn|agea|yrbrn2|yrbrn3|yrbrn4|yrbrn5|yrbrn6|yrbrn7|yrbrn8|yrbrn9|yrbrn10|yrbrn11|yrbrn12|rshipa2|rshipa3|rshipa4|rshipa5|rshipa6|rshipa7|rshipa8|rshipa9|rshipa10|rshipa11|rshipa12|rshpsts|rshpsgb|lvgptnea|dvrcdeva|marsts|marstgb|maritalb|chldhhe|domicil|paccmoro|paccdwlr|pacclift|paccnbsh|paccocrw|paccxhoc|paccnois|paccinro|paccnt|paccref|paccdk|paccna|edulvlb|eisced|edlveat|edlvebe|edlvehr|edlvgcy|edlvdfi|edlvdfr|edudde1|educde2|edlvegr|edlvdahu|edlvdis|edlvdie|edlvfit|edlvdlt|edlvenl|edlveno|edlvipl|edlvept|edlvdrs|edlvdsk|edlvesi|edlvies|edlvdse|edlvdch|educgb1|edubgb2|edagegb|eduyrs|pdwrk|edctn|uempla|uempli|dsbld|rtrd|cmsrv|hswrk|dngoth|dngref|dngdk|dngna|mainact|mnactic|crpdwk|pdjobev|pdjobyr|emplrel|emplno|wrkctra|estsz|jbspv|njbspv|wkdcorga|iorgact|wkhct|wkhtot|nacer2|tporgwk|isco08|wrkac6m|uemp3m|uemp12m|uemp5yr|mbtru|hincsrca|hinctnta|hincfel|edulvlpb|eiscedp|edlvpfat|edlvpebe|edlvpehr|edlvpgcy|edlvpdfi|edlvpdfr|edupdde1|edupcde2|edlvpegr|edlvpdahu|edlvpdis|edlvpdie|edlvpfit|edlvpdlt|edlvpenl|edlvpeno|edlvphpl|edlvpept|edlvpdrs|edlvpdsk|edlvpesi|edlvphes|edlvpdse|edlvpdch|edupcgb1|edupbgb2|edagepgb|pdwrkp|edctnp|uemplap|uemplip|dsbldp|rtrdp|cmsrvp|hswrkp|dngothp|dngdkp|dngnapp|dngrefp|dngnap|mnactp|crpdwkp|isco08p|emprelp|wkhtotp|edulvlfb|eiscedf|edlvfeat|edlvfebe|edlvfehr|edlvfgcy|edlvfdfi|edlvfdfr|edufcde1|edufbde2|edlvfegr|edlvfdahu|edlvfdis|edlvfdie|edlvffit|edlvfdlt|edlvfenl|edlvfeno|edlvfgpl|edlvfept|edlvfdrs|edlvfdsk|edlvfesi|edlvfges|edlvfdse|edlvfdch|edufcgb1|edufbgb2|edagefgb|emprf14|occf14b|edulvlmb|eiscedm|edlvmeat|edlvmebe|edlvmehr|edlvmgcy|edlvmdfi|edlvmdfr|edumcde1|edumbde2|edlvmegr|edlvmdahu|edlvmdis|edlvmdie|edlvmfit|edlvmdlt|edlvmenl|edlvmeno|edlvmgpl|edlvmept|edlvmdrs|edlvmdsk|edlvmesi|edlvmges|edlvmdse|edlvmdch|edumcgb1|edumbgb2|edagemgb|emprm14|occm14b|atncrse|anctrya1|anctrya2|regunit|region|ipcrtiva|impricha|ipeqopta|ipshabta|impsafea|impdiffa|ipfrulea|ipudrsta|ipmodsta|ipgdtima|impfreea|iphlppla|ipsucesa|ipstrgva|ipadvnta|ipbhprpa|iprspota|iplylfra|impenva|imptrada|impfuna|testji1|testji2|testji3|testji4|testji5|testji6|testji7|testji8|testji9|respc19a|symtc19|symtnc19|vacc19|recon|              inwds|              ainws|              ainwe|              binwe|              cinwe|              dinwe|              einwe|              finwe|              hinwe|              iinwe|              kinwe|rinwe|              inwde|              jinws|              jinwe|inwtm|mode|domain|        prob|stratum|psu|\n",
            "+--------+--------+-------+----------+-----+-----+---------+----------+----------+-----------+------+--------+-------+-------+-------+------+-------+--------+--------+--------+--------+-------+-------+-------+-------+-------+------+------+----+--------+--------+--------+--------+--------+--------+--------+--------+--------+--------+--------+--------+--------+--------+--------+--------+--------+--------+--------+--------+--------+--------+--------+--------+--------+--------+--------+-------+-------+-----+-------+-------+------+--------+-------+-------+--------+--------+--------+--------+--------+--------+--------+--------+--------+--------+--------+--------+--------+--------+--------+--------+--------+--------+--------+--------+--------+--------+--------+--------+-------+-------+-------+------+------+------+------+-------+-------+-------+--------+-------+-----+-------+-------+-------+-------+-------+-------+-------+-------+-----+-------+-------+------+------+-------+------+-------+-------+-------+------+------+--------+--------+--------+--------+--------+-------+--------+-------+-------+--------+-------+--------+--------+-------+--------+--------+--------+-------+-------+-------+--------+--------+--------+--------+--------+-------+--------+-------+-------+--------+-------+--------+--------+-------+--------+--------+--------+-------+------+-------+----+-------+-------+-------+-------+-------+-------+-------+-------+-------+-------+-------+------+-------+-------+------+-------+-------+--------+--------+-------+-------+--------+------+--------+------+--------+-------+-------+-------+-------+--------+--------+--------+--------+--------+--------+--------+--------+--------+--------+--------+-------+-------+------+------+-------+-------+-------+-------+-------+-------+------+-------+-------+-------+-------+--------+-------+-------+-------+-------+-------+-------+-------+-------+--------+--------+--------+--------+-------+-------+-------+-------+-------+--------+--------+-------+-------+-------+-------+-------+-------+-------+-------+-------+-------+-------+--------+-------+-------+------+-------+-----+-----+------+-----+-----+------+-------+-------+-------+-------+-------+-------+-------+-------+-------+-------+-------+-------+--------+-------+-------+-------+-------+-------+-------+-------+-------+-------+-------+-------+-------+-------+-------+--------+--------+-------+-------+-------+-------+-------+-------+-------+-------+-------+-------+-------+--------+--------+-------+-------+-------+-------+-------+-------+-------+-------+-------+--------+--------+-------+-------+--------+-------+-------+-------+-------+-------+-------+-------+-------+-------+-------+-------+-------+-------+-------+-------+-------+-------+-------+-------+-------+-------+-------+-------+-------+-------+-------+-------+-----+----+-----+-----+-----+-----+-----+-----+-----+-----+------+------+------+-----+----+------+------+------+------+------+------+------+------+-------+-------+-------+-------+-------+-------+-------+-------+-------+-------+-------+--------+--------+--------+-------+-------+--------+--------+------+-------+--------+-------+-------+--------+--------+--------+--------+--------+--------+--------+--------+------+-------+------+------+-------+------+-------+-------+-------+-------+-------+-------+-------+-------+-------+--------+-------+-------+-------+-------+-------+-------+-------+-------+-------+-------+-------+-------+-------+-------+-------+-------+-------+------+-----+-----+------+------+-----+----+-----+-----+------+------+-----+-----+-------+-------+------+-------+-------+-------+------+-------+-----+-----+------+--------+-------+-----+------+------+-------+------+-------+------+-------+-------+-----+--------+--------+-------+--------+-------+--------+--------+--------+--------+--------+--------+--------+--------+--------+---------+--------+--------+--------+--------+--------+--------+--------+--------+--------+--------+--------+--------+--------+--------+--------+--------+--------+------+------+-------+-------+------+-----+------+------+-------+------+-------+-------+------+------+-------+-------+-------+-------+--------+-------+--------+--------+--------+--------+--------+--------+--------+--------+--------+---------+--------+--------+--------+--------+--------+--------+--------+--------+--------+--------+--------+--------+--------+--------+--------+--------+--------+-------+-------+--------+-------+--------+--------+--------+--------+--------+--------+--------+--------+--------+---------+--------+--------+--------+--------+--------+--------+--------+--------+--------+--------+--------+--------+--------+--------+--------+--------+--------+-------+-------+-------+--------+--------+-------+------+--------+--------+--------+--------+--------+--------+--------+--------+--------+--------+--------+--------+--------+--------+--------+--------+--------+--------+-------+--------+-------+-------+-------+-------+-------+-------+-------+-------+-------+-------+--------+-------+--------+------+-----+-------------------+-------------------+-------------------+-------------------+-------------------+-------------------+-------------------+-------------------+-------------------+-------------------+-------------------+-----+-------------------+-------------------+-------------------+-----+----+------+------------+-------+---+\n",
            "|ESS11e02|      11|    2.0|20.11.2024|50014|   AT|1.1851145|0.39289063|0.33091453| 0.13001321|    90|       5|    180|      5|      5|     5|      1|       4|       5|       4|       5|      6|      9|     10|      5|      5|     5|     5|   1|       1|    NULL|    NULL|    NULL|    NULL|    NULL|    NULL|    NULL|    NULL|    NULL|    NULL|    NULL|    NULL|    NULL|    NULL|    NULL|    NULL|    NULL|    NULL|    NULL|    NULL|    NULL|    NULL|    NULL|    NULL|    NULL|    NULL|      2|      2|    2|      2|      2|     2|       2|      2|      1|       1|    NULL|    NULL|    NULL|    NULL|    NULL|    NULL|    NULL|    NULL|    NULL|    NULL|    NULL|    NULL|    NULL|    NULL|    NULL|    NULL|    NULL|    NULL|    NULL|    NULL|    NULL|    NULL|    NULL|      2|      5|      8|     6|     4|     6|     8|      8|      2|      2|       4|      3|    6|      4|      4|      2|      2|      3|      7|      3|      5|    8|      4|      1|     3|     2|      2|     3|      3|     10|      5|     1|     1|       1|    NULL|    NULL|    NULL|    NULL|   NULL|    NULL|   NULL|   NULL|    NULL|   NULL|    NULL|    NULL|   NULL|    NULL|    NULL|    NULL|   NULL|      6|     66|    6666|    NULL|    NULL|    NULL|    NULL|   NULL|    NULL|   NULL|   NULL|    NULL|   NULL|    NULL|    NULL|   NULL|    NULL|    NULL|    NULL|   NULL|     5|      6|   5|      2|      0|      0|      0|      0|      0|      0|      0|      0|      0|      0|     0|      0|      1|     0|      1|      1|    6666|    6666|    GER|    000|       1|     1|    6666|     1|    6666|      4|      4|      4|      2|      66|      66|      66|       2|       2|       3|       6|       6|       6|       1|    NULL|      8|      3|     3|     3|      4|      3|   20.0|   22.0|      1|      5|   178|     90|      1|      1|      0|       0|      0|      0|      2|      0|      0|      0|      0|      0|       0|       0|       1|       0|      0|      0|      1|      2|     66|       0|       0|      0|      0|      0|      0|      0|      0|      0|      0|      0|      0|      1|       0|      0|      0|     1|      1|    1|    3|     1|    3|    1|     1|      0|      1|      0|      0|      0|      0|      0|      0|      0|      0|      0|      0|       0|      0|      0|      0|      0|      0|      0|      0|      0|      0|      0|      0|      0|      0|      1|       0|       0|      0|      0|      3|      6|      4|      5|      0|      0|      0|      0|      0|       1|       0|      0|      0|      0|      0|      0|      0|      0|      0|      0|       1|       0|      0|      0|       1|      2|      4|      4|      5|      4|      0|      3|      3|      3|      3|      3|      3|      3|      6|      6|      6|      6|      4|      4|      4|      3|      2|      3|      2|      2|      2|      2|    2|   1|    2|    6|    6|    6|    6|    6| NULL| NULL|  NULL|  NULL|  NULL| 1958|  65|  1957|  6666|  6666|  6666|  6666|  6666|  NULL|  NULL|   NULL|   NULL|   NULL|      1|     66|     66|     66|     66|     66|   NULL|   NULL|    NULL|    NULL|    NULL|      1|   NULL|       1|       2|    66|   NULL|       1|      1|      3|       0|       0|       0|       0|       0|       0|       0|       0|     1|      0|     0|     0|    322|     3|      6|   NULL|   NULL|   NULL|   NULL|   NULL|   NULL|   NULL|   NULL|    NULL|   NULL|   NULL|   NULL|   NULL|   NULL|   NULL|   NULL|   NULL|   NULL|   NULL|   NULL|   NULL|   NULL|   NULL|   NULL|   NULL|   NULL|    12|    0|    0|     0|     0|    0|   1|    0|    0|     0|     0|    0|    0|     66|      6|     2|      2|   6666|      6| 66666|      6|    6|    6| 66666|      66|     66|  666|   666|   666|     66| 66666|      6|     2|      6|      6|    3|       4|       6|      1|     322|      3|       6|    NULL|    NULL|    NULL|    NULL|    NULL|    NULL|    NULL|    NULL|     NULL|    NULL|    NULL|    NULL|    NULL|    NULL|    NULL|    NULL|    NULL|    NULL|    NULL|    NULL|    NULL|    NULL|    NULL|    NULL|    NULL|    NULL|     0|     0|      0|      0|     0|    1|     0|     0|      0|     0|      0|      0|     0|    66|      2|  66666|      6|    666|     322|      3|       7|    NULL|    NULL|    NULL|    NULL|    NULL|    NULL|    NULL|    NULL|     NULL|    NULL|    NULL|    NULL|    NULL|    NULL|    NULL|    NULL|    NULL|    NULL|    NULL|    NULL|    NULL|    NULL|    NULL|    NULL|    NULL|    NULL|      2|      9|     212|      2|       3|    NULL|    NULL|    NULL|    NULL|    NULL|    NULL|    NULL|    NULL|     NULL|    NULL|    NULL|    NULL|    NULL|    NULL|    NULL|    NULL|    NULL|    NULL|    NULL|    NULL|    NULL|    NULL|    NULL|    NULL|    NULL|    NULL|      2|      9|      2|   11010|  555555|      2|  AT31|       3|       5|       2|       2|       2|       4|       2|       2|       2|       2|       2|       2|       3|       2|       5|       2|       2|       2|      2|       3|      3|      6|      6|      6|      3|      3|      2|     66|     66|     66|       1|      2|       6|     1|    2|2023-11-12 14:49:50|2023-11-12 14:49:50|2023-11-12 14:50:23|2023-11-12 15:01:14|2023-11-12 15:03:07|2023-11-12 15:08:28|2023-11-12 15:14:58|2023-11-12 15:18:41|2023-11-12 15:20:19|2023-11-12 15:20:37|2023-11-12 15:20:46| NULL|2023-11-12 15:26:55|2023-11-12 15:21:28|2023-11-12 15:26:55|   30|   1|     2| 5.786479E-4|    107|317|\n",
            "|ESS11e02|      11|    2.0|20.11.2024|50030|   AT|0.6098981|0.32515332|0.33091453|0.107597955|    90|       5|    570|     10|      0|     1|      2|       3|       2|       3|       2|      6|      6|      4|      1|      0|     5|     5|   1|       5|    NULL|    NULL|    NULL|    NULL|    NULL|    NULL|    NULL|    NULL|    NULL|    NULL|    NULL|    NULL|    NULL|    NULL|    NULL|    NULL|    NULL|    NULL|    NULL|    NULL|    NULL|    NULL|    NULL|    NULL|    NULL|    NULL|      2|      2|    1|      1|      1|     1|       2|      1|      1|       5|    NULL|    NULL|    NULL|    NULL|    NULL|    NULL|    NULL|    NULL|    NULL|    NULL|    NULL|    NULL|    NULL|    NULL|    NULL|    NULL|    NULL|    NULL|    NULL|    NULL|    NULL|    NULL|    NULL|      2|      0|      9|     2|     5|     7|    10|     10|      1|      1|       5|      1|    9|      2|      5|      2|      2|      2|      6|      5|      9|    9|      7|      4|     4|     1|      3|     2|      2|      8|      8|     2|    66|    6666|    NULL|    NULL|    NULL|    NULL|   NULL|    NULL|   NULL|   NULL|    NULL|   NULL|    NULL|    NULL|   NULL|    NULL|    NULL|    NULL|   NULL|      2|     66|    6666|    NULL|    NULL|    NULL|    NULL|   NULL|    NULL|   NULL|   NULL|    NULL|   NULL|    NULL|    NULL|   NULL|    NULL|    NULL|    NULL|   NULL|     0|      7|   6|      2|      0|      0|      0|      0|      0|      0|      0|      0|      0|      0|     0|      0|      1|     0|      1|      1|    6666|    6666|    GER|    ENG|       8|     1|    6666|     1|    6666|      3|     10|      5|      3|      66|      66|      66|       6|       6|       6|       3|       3|       2|      55|    NULL|      8|      1|     1|     5|      5|      3|   70.0|   64.0|      2|      2|   168|     74|      1|      0|      0|       0|      0|      0|      2|      0|      0|      0|      0|      0|       0|       0|       1|       0|      0|      0|      2|      1|      2|       0|       0|      0|      0|      0|      0|      0|      0|      0|      0|      0|      0|      1|       0|      0|      0|     2|      2|    3|    3|     3|    4|    2|     2|      1|      0|      0|      0|      0|      0|      0|      0|      0|      0|      0|      0|       0|      0|      0|      0|      0|      0|      0|      0|      0|      0|      0|      0|      0|      0|      0|       0|       1|      0|      0|      3|      6|      2|      4|      0|      0|      0|      0|      1|       0|       0|      0|      0|      0|      0|      0|      0|      0|      0|      1|       0|       0|      0|      0|       2|      0|      0|      6|      6|      3|      6|      3|      3|      2|      3|      1|      1|      8|      6|      5|      5|      5|      2|      4|      1|      2|      3|      3|      4|      2|      2|      3|    1|   2|    6|    6|    6|    6|    6|    6| NULL| NULL|  NULL|  NULL|  NULL| 2002|  21|  6666|  6666|  6666|  6666|  6666|  6666|  NULL|  NULL|   NULL|   NULL|   NULL|     66|     66|     66|     66|     66|     66|   NULL|   NULL|    NULL|    NULL|    NULL|     66|   NULL|       2|       2|     6|   NULL|       6|      2|      1|       1|       0|       0|       0|       0|       0|       0|       0|     0|      0|     0|     0|    423|     5|     10|   NULL|   NULL|   NULL|   NULL|   NULL|   NULL|   NULL|   NULL|    NULL|   NULL|   NULL|   NULL|   NULL|   NULL|   NULL|   NULL|   NULL|   NULL|   NULL|   NULL|   NULL|   NULL|   NULL|   NULL|   NULL|   NULL|    14|    0|    1|     0|     0|    0|   0|    0|    0|     0|     0|    0|    0|     66|      2|     2|      1|   2023|      1| 66666|      2|    2|    2| 66666|       0|      0|   32|    32|    14|      4|  5249|      2|     2|      6|      6|    3|       8|       1|      2|    6666|     66|    6666|    NULL|    NULL|    NULL|    NULL|    NULL|    NULL|    NULL|    NULL|     NULL|    NULL|    NULL|    NULL|    NULL|    NULL|    NULL|    NULL|    NULL|    NULL|    NULL|    NULL|    NULL|    NULL|    NULL|    NULL|    NULL|    NULL|     0|     0|      0|      0|     0|    0|     0|     0|      0|     0|      1|      0|     0|    66|      6|  66666|      6|    666|     322|      3|       6|    NULL|    NULL|    NULL|    NULL|    NULL|    NULL|    NULL|    NULL|     NULL|    NULL|    NULL|    NULL|    NULL|    NULL|    NULL|    NULL|    NULL|    NULL|    NULL|    NULL|    NULL|    NULL|    NULL|    NULL|    NULL|    NULL|      2|      9|     322|      3|       6|    NULL|    NULL|    NULL|    NULL|    NULL|    NULL|    NULL|    NULL|     NULL|    NULL|    NULL|    NULL|    NULL|    NULL|    NULL|    NULL|    NULL|    NULL|    NULL|    NULL|    NULL|    NULL|    NULL|    NULL|    NULL|    NULL|      2|      9|      2|   11010|  555555|      2|  AT22|       2|       4|       2|       4|       4|       4|       4|       2|       2|       2|       2|       1|       4|       2|       4|       2|       4|       1|      1|       4|      2|      6|      6|      6|      6|      6|      6|     10|      2|      2|       1|      2|       6|     1|    1|2023-10-18 09:56:32|2023-10-18 09:56:32|2023-10-18 09:58:32|2023-10-18 10:07:21|2023-10-18 10:11:42|2023-10-18 10:19:27|2023-10-18 10:25:47|2023-10-18 10:32:34|2023-10-18 10:36:39|2023-10-18 10:37:18|2023-10-18 10:37:49| NULL|2023-10-18 10:44:18|2023-10-18 10:42:22|2023-10-18 10:44:18|   40|   1|     1|0.0011243912|     69|128|\n",
            "|ESS11e02|      11|    2.0|20.11.2024|50057|   AT|1.3923296| 4.0000234|0.33091453|  1.3236659|    30|       5|     30|      6|      9|     8|      2|       4|       4|       4|       3|      7|      5|      8|      4|      4|     7|     5|   1|       5|    NULL|    NULL|    NULL|    NULL|    NULL|    NULL|    NULL|    NULL|    NULL|    NULL|    NULL|    NULL|    NULL|    NULL|    NULL|    NULL|    NULL|    NULL|    NULL|    NULL|    NULL|    NULL|    NULL|    NULL|    NULL|    NULL|      1|      1|    2|      1|      1|     1|       1|      1|      1|       5|    NULL|    NULL|    NULL|    NULL|    NULL|    NULL|    NULL|    NULL|    NULL|    NULL|    NULL|    NULL|    NULL|    NULL|    NULL|    NULL|    NULL|    NULL|    NULL|    NULL|    NULL|    NULL|    NULL|      2|      3|     10|     6|     5|     6|     5|      8|      1|      1|       5|      1|    7|      5|      3|      1|      1|      1|      9|      9|      8|    9|      4|      4|     3|     2|      3|     1|      3|      9|      7|     2|    66|    6666|    NULL|    NULL|    NULL|    NULL|   NULL|    NULL|   NULL|   NULL|    NULL|   NULL|    NULL|    NULL|   NULL|    NULL|    NULL|    NULL|   NULL|      1|      1|       1|    NULL|    NULL|    NULL|    NULL|   NULL|    NULL|   NULL|   NULL|    NULL|   NULL|    NULL|    NULL|   NULL|    NULL|    NULL|    NULL|   NULL|     8|      5|   3|      1|      0|      0|      0|      0|      0|      0|      1|      0|      0|      0|     0|      0|      0|     0|      1|      1|    6666|    6666|    GER|    ENG|       1|     1|    6666|     1|    6666|      4|      8|      5|      2|      66|      66|      66|       3|       4|       3|       6|       6|       6|       1|    NULL|      9|      4|     3|     3|      1|      4|   72.0|   72.0|      2|      5|   180|     95|      1|      1|      0|       0|      0|      0|      2|      0|      0|      0|      0|      0|       0|       0|       1|       0|      0|      0|      1|      1|      1|       0|       0|      1|      0|      0|      0|      0|      0|      0|      0|      0|      0|      0|       0|      0|      0|     2|      2|    3|    3|     1|    3|    1|     2|      0|      0|      0|      0|      0|      0|      1|      0|      0|      0|      0|      0|       0|      0|      0|      0|      0|      0|      0|      0|      1|      1|      0|      0|      0|      0|      0|       0|       0|      0|      0|      3|      6|      4|      2|      0|      0|      0|      0|      1|       0|       0|      0|      0|      0|      0|      0|      0|      0|      0|      1|       0|       0|      0|      0|       2|      0|      3|      6|      6|      0|      6|      5|      3|      3|      3|      1|      1|      1|      5|      6|      6|      6|      2|      8|      2|      1|      2|      2|      4|      2|      4|      2|    3|   2|    1|    2|    6|    6|    6|    6| NULL| NULL|  NULL|  NULL|  NULL| 1970|  53|  1970|  2001|  6666|  6666|  6666|  6666|  NULL|  NULL|   NULL|   NULL|   NULL|      1|      2|     66|     66|     66|     66|   NULL|   NULL|    NULL|    NULL|    NULL|      1|   NULL|       1|       2|    66|   NULL|       1|      6|      3|       0|       0|       0|       0|       0|       0|       0|       0|     1|      0|     0|     0|    610|     6|     12|   NULL|   NULL|   NULL|   NULL|   NULL|   NULL|   NULL|   NULL|    NULL|   NULL|   NULL|   NULL|   NULL|   NULL|   NULL|   NULL|   NULL|   NULL|   NULL|   NULL|   NULL|   NULL|   NULL|   NULL|   NULL|   NULL|    16|    1|    0|     0|     0|    0|   0|    0|    0|     0|     0|    0|    0|     66|      1|     6|      6|   6666|      1| 66666|      1|    1|    1|     4|      10|      9|   25|    25|    88|      6|  2635|      2|     2|      6|      6|    3|       1|       5|      1|     520|      5|      11|    NULL|    NULL|    NULL|    NULL|    NULL|    NULL|    NULL|    NULL|     NULL|    NULL|    NULL|    NULL|    NULL|    NULL|    NULL|    NULL|    NULL|    NULL|    NULL|    NULL|    NULL|    NULL|    NULL|    NULL|    NULL|    NULL|     1|     0|      0|      0|     0|    0|     0|     0|      0|     0|      0|      0|     0|    66|      6|   2635|      1|      1|     322|      3|       6|    NULL|    NULL|    NULL|    NULL|    NULL|    NULL|    NULL|    NULL|     NULL|    NULL|    NULL|    NULL|    NULL|    NULL|    NULL|    NULL|    NULL|    NULL|    NULL|    NULL|    NULL|    NULL|    NULL|    NULL|    NULL|    NULL|      1|      6|     322|      3|       7|    NULL|    NULL|    NULL|    NULL|    NULL|    NULL|    NULL|    NULL|     NULL|    NULL|    NULL|    NULL|    NULL|    NULL|    NULL|    NULL|    NULL|    NULL|    NULL|    NULL|    NULL|    NULL|    NULL|    NULL|    NULL|    NULL|      3|     66|      1|   11010|   11070|      2|  AT33|       1|       4|       1|       3|       2|       4|       3|       1|       3|       3|       2|       1|       3|       2|       4|       3|       3|       1|      1|       3|      2|      6|      6|      6|      8|      8|      8|     66|     66|     66|       1|      2|       6|     1|    1|2023-09-30 13:22:49|2023-09-30 13:22:49|2023-09-30 13:24:24|2023-09-30 13:34:23|2023-09-30 13:41:50|2023-09-30 13:50:25|2023-09-30 13:56:10|2023-09-30 14:03:15|2023-09-30 14:05:12|2023-09-30 14:05:27|2023-09-30 14:05:41| NULL|2023-09-30 14:13:33|2023-09-30 14:08:31|2023-09-30 14:13:33|   42|   1|     2|   4.9253E-4|     18|418|\n",
            "|ESS11e02|      11|    2.0|20.11.2024|50106|   AT|0.5560615|0.17622764|0.33091453|0.058316287|    15|       1|   6666|      6|      6|     6|      3|       2|       2|       2|       3|      5|      6|      9|      3|      3|     4|     4|   2|      66|    NULL|    NULL|    NULL|    NULL|    NULL|    NULL|    NULL|    NULL|    NULL|    NULL|    NULL|    NULL|    NULL|    NULL|    NULL|    NULL|    NULL|    NULL|    NULL|    NULL|    NULL|    NULL|    NULL|    NULL|    NULL|    NULL|      2|      2|    2|      2|      2|     2|       2|      2|      2|      66|    NULL|    NULL|    NULL|    NULL|    NULL|    NULL|    NULL|    NULL|    NULL|    NULL|    NULL|    NULL|    NULL|    NULL|    NULL|    NULL|    NULL|    NULL|    NULL|    NULL|    NULL|    NULL|    NULL|      6|      5|      7|     4|     4|     6|     5|      2|      1|      2|       4|      3|    5|      2|      9|      2|      2|      2|      6|      6|      5|    7|      6|      3|     3|     2|      3|     3|      3|     10|      8|     1|     3|      10|    NULL|    NULL|    NULL|    NULL|   NULL|    NULL|   NULL|   NULL|    NULL|   NULL|    NULL|    NULL|   NULL|    NULL|    NULL|    NULL|   NULL|      6|     66|    6666|    NULL|    NULL|    NULL|    NULL|   NULL|    NULL|   NULL|   NULL|    NULL|   NULL|    NULL|    NULL|   NULL|    NULL|    NULL|    NULL|   NULL|     6|      6|   3|      2|      0|      0|      0|      0|      0|      0|      0|      0|      0|      0|     0|      0|      1|     0|      2|      2|      RO|    1989|    GER|    RUM|       2|     2|      RO|     2|      RO|      4|      6|      4|      2|      66|      66|      66|       4|       4|       4|       6|       6|       6|      55|    NULL|      8|      2|     2|     3|      6|      7| 6666.0| 6666.0|      6|      6|   167|     70|      1|      1|      0|       0|      0|      0|      2|      0|      0|      0|      0|      0|       0|       0|       1|       0|      0|      0|      1|      2|     66|       0|       0|      0|      0|      0|      0|      0|      0|      0|      0|      0|      0|      1|       0|      0|      0|     2|      2|    3|    2|     2|    2|    2|     2|      0|      1|      0|      0|      1|      0|      0|      0|      0|      0|      1|      0|       0|      0|      0|      0|      0|      0|      0|      1|      0|      0|      0|      0|      0|      1|      0|       0|       0|      0|      0|      3|      6|      4|      3|      0|      1|      1|      0|      0|       0|       0|      0|      0|      0|      0|      0|      0|      1|      1|      0|       0|       0|      0|      0|       2|      0|      1|      6|      6|      0|      6|      5|      3|      1|      3|      3|      1|      2|      5|      5|      5|      6|      1|      8|      4|      1|      3|      3|      4|      2|      3|      2|    1|   2|    6|    6|    6|    6|    6|    6| NULL| NULL|  NULL|  NULL|  NULL| 1945|  78|  6666|  6666|  6666|  6666|  6666|  6666|  NULL|  NULL|   NULL|   NULL|   NULL|     66|     66|     66|     66|     66|     66|   NULL|   NULL|    NULL|    NULL|    NULL|     66|   NULL|       1|       1|     4|   NULL|       4|      1|      1|       0|       0|       0|       0|       0|       0|       0|       0|     1|      0|     0|     0|    422|     5|      9|   NULL|   NULL|   NULL|   NULL|   NULL|   NULL|   NULL|   NULL|    NULL|   NULL|   NULL|   NULL|   NULL|   NULL|   NULL|   NULL|   NULL|   NULL|   NULL|   NULL|   NULL|   NULL|   NULL|   NULL|   NULL|   NULL|    14|    0|    0|     0|     0|    0|   1|    0|    0|     0|     0|    0|    0|     66|      6|     2|      1|   2005|      1| 66666|      1|    5|    2| 66666|       5|      0|   39|    39|    87|      2|  2221|      2|     2|      6|      6|    3|       4|       2|      2|    6666|     66|    6666|    NULL|    NULL|    NULL|    NULL|    NULL|    NULL|    NULL|    NULL|     NULL|    NULL|    NULL|    NULL|    NULL|    NULL|    NULL|    NULL|    NULL|    NULL|    NULL|    NULL|    NULL|    NULL|    NULL|    NULL|    NULL|    NULL|     0|     0|      0|      0|     0|    0|     0|     0|      0|     0|      1|      0|     0|    66|      6|  66666|      6|    666|     322|      3|       6|    NULL|    NULL|    NULL|    NULL|    NULL|    NULL|    NULL|    NULL|     NULL|    NULL|    NULL|    NULL|    NULL|    NULL|    NULL|    NULL|    NULL|    NULL|    NULL|    NULL|    NULL|    NULL|    NULL|    NULL|    NULL|    NULL|      1|      5|     212|      2|       3|    NULL|    NULL|    NULL|    NULL|    NULL|    NULL|    NULL|    NULL|     NULL|    NULL|    NULL|    NULL|    NULL|    NULL|    NULL|    NULL|    NULL|    NULL|    NULL|    NULL|    NULL|    NULL|    NULL|    NULL|    NULL|    NULL|      1|      4|      2|   14090|   11010|      2|  AT31|       3|       4|       2|       3|       1|       4|       3|       3|       2|       3|       2|       2|       3|       3|       4|       3|       3|       2|      2|       2|      3|      6|      6|      6|      1|      1|      1|     66|     66|     66|       1|      2|       6|     1|    2|2023-06-30 14:31:46|2023-06-30 14:31:46|2023-06-30 14:32:40|2023-06-30 14:42:30|2023-06-30 14:50:31|2023-06-30 14:53:56|2023-06-30 14:57:00|2023-06-30 15:04:03|2023-06-30 15:05:22|2023-06-30 15:05:41|2023-06-30 15:06:02| NULL|2023-06-30 15:11:21|2023-06-30 15:08:05|2023-06-30 15:11:21|   34|   1|     1|0.0012332522|    101|295|\n",
            "|ESS11e02|      11|    2.0|20.11.2024|50145|   AT|0.7227953| 1.0609399|0.33091453| 0.35108042|    60|       5|    120|      6|      3|     8|      2|       3|       1|       4|       3|      6|      8|      8|      5|      5|     6|     8|   1|       5|    NULL|    NULL|    NULL|    NULL|    NULL|    NULL|    NULL|    NULL|    NULL|    NULL|    NULL|    NULL|    NULL|    NULL|    NULL|    NULL|    NULL|    NULL|    NULL|    NULL|    NULL|    NULL|    NULL|    NULL|    NULL|    NULL|      2|      2|    2|      1|      2|     2|       2|      2|      1|       5|    NULL|    NULL|    NULL|    NULL|    NULL|    NULL|    NULL|    NULL|    NULL|    NULL|    NULL|    NULL|    NULL|    NULL|    NULL|    NULL|    NULL|    NULL|    NULL|    NULL|    NULL|    NULL|    NULL|      2|      2|      9|     6|     7|     8|     9|      9|      2|      2|       4|      2|   10|      1|      2|      1|      1|      2|     10|     10|     10|    9|      5|      4|     3|     2|      1|     2|      3|     10|     10|     1|     1|       1|    NULL|    NULL|    NULL|    NULL|   NULL|    NULL|   NULL|   NULL|    NULL|   NULL|    NULL|    NULL|   NULL|    NULL|    NULL|    NULL|   NULL|      6|     66|    6666|    NULL|    NULL|    NULL|    NULL|   NULL|    NULL|   NULL|   NULL|    NULL|   NULL|    NULL|    NULL|   NULL|    NULL|    NULL|    NULL|   NULL|     1|      7|   7|      2|      0|      0|      0|      0|      0|      0|      0|      0|      0|      0|     0|      0|      1|     0|      1|      1|    6666|    6666|    GER|    000|       1|     1|    6666|     1|    6666|      5|     10|      4|      3|      66|      66|      66|       6|       6|       6|       4|       2|       1|       1|    NULL|      9|      3|     3|     3|      1|      2|   24.0|   48.0|      2|      4|   168|     67|      0|      1|      0|       0|      0|      0|      2|      0|      0|      0|      0|      0|       0|       0|       1|       0|      0|      0|      1|      2|     66|       0|       0|      0|      0|      0|      1|      1|      0|      0|      0|      0|      0|      0|       0|      0|      0|     1|      1|    1|    3|     1|    3|    1|     1|      0|      0|      0|      0|      0|      0|      0|      0|      0|      0|      0|      1|       0|      0|      0|      0|      0|      0|      0|      0|      0|      0|      0|      0|      0|      0|      0|       1|       0|      0|      0|      3|      6|      5|      5|      0|      0|      0|      0|      1|       0|       0|      0|      0|      0|      0|      0|      0|      0|      0|      1|       0|       0|      0|      0|       2|      1|      0|      6|      6|      0|      5|      5|      3|      3|      3|      3|      1|      3|      6|      6|      6|      6|      1|      5|      1|      1|      2|      2|      4|      1|      3|      3|    2|   1|    1|    6|    6|    6|    6|    6| NULL| NULL|  NULL|  NULL|  NULL| 1959|  64|  1962|  6666|  6666|  6666|  6666|  6666|  NULL|  NULL|   NULL|   NULL|   NULL|      1|     66|     66|     66|     66|     66|   NULL|   NULL|    NULL|    NULL|    NULL|      1|   NULL|       1|       2|    66|   NULL|       1|      1|      4|       0|       0|       0|       0|       0|       0|       0|       0|     1|      0|     0|     0|    322|     3|      6|   NULL|   NULL|   NULL|   NULL|   NULL|   NULL|   NULL|   NULL|    NULL|   NULL|   NULL|   NULL|   NULL|   NULL|   NULL|   NULL|   NULL|   NULL|   NULL|   NULL|   NULL|   NULL|   NULL|   NULL|   NULL|   NULL|    12|    0|    0|     0|     0|    0|   1|    0|    0|     0|     0|    0|    0|     66|      6|     2|      1|   2021|      1| 66666|      1|    2|    2| 66666|       7|      7|   40|    35|    47|      4|  5223|      2|     2|      6|      6|    2|       4|      77|      2|     322|      3|       6|    NULL|    NULL|    NULL|    NULL|    NULL|    NULL|    NULL|    NULL|     NULL|    NULL|    NULL|    NULL|    NULL|    NULL|    NULL|    NULL|    NULL|    NULL|    NULL|    NULL|    NULL|    NULL|    NULL|    NULL|    NULL|    NULL|     0|     0|      0|      0|     0|    1|     0|     0|      0|     0|      0|      0|     0|    66|      2|  66666|      6|    666|     322|      3|       6|    NULL|    NULL|    NULL|    NULL|    NULL|    NULL|    NULL|    NULL|     NULL|    NULL|    NULL|    NULL|    NULL|    NULL|    NULL|    NULL|    NULL|    NULL|    NULL|    NULL|    NULL|    NULL|    NULL|    NULL|    NULL|    NULL|      1|      4|     212|      2|       3|    NULL|    NULL|    NULL|    NULL|    NULL|    NULL|    NULL|    NULL|     NULL|    NULL|    NULL|    NULL|    NULL|    NULL|    NULL|    NULL|    NULL|    NULL|    NULL|    NULL|    NULL|    NULL|    NULL|    NULL|    NULL|    NULL|      1|      7|      2|   11010|   11018|      2|  AT32|       3|       4|       2|       2|       2|       4|       5|       2|       3|       3|       2|       2|       2|       2|       4|       2|       2|       2|      2|       2|      2|      6|      6|      6|      6|      6|      6|      8|      4|      3|       3|      6|       6|     1|    2|2023-07-11 10:11:00|2023-07-11 10:11:00|2023-07-11 10:13:36|2023-07-11 10:18:33|2023-07-11 10:23:56|2023-07-11 10:43:23|2023-07-11 10:56:16|2023-07-11 11:03:31|2023-07-11 11:07:49|2023-07-11 11:08:12|2023-07-11 11:08:26| NULL|2023-07-11 11:14:03|2023-07-11 11:10:02|2023-07-11 11:14:03|   57|   1|     2| 9.487666E-4|    115|344|\n",
            "+--------+--------+-------+----------+-----+-----+---------+----------+----------+-----------+------+--------+-------+-------+-------+------+-------+--------+--------+--------+--------+-------+-------+-------+-------+-------+------+------+----+--------+--------+--------+--------+--------+--------+--------+--------+--------+--------+--------+--------+--------+--------+--------+--------+--------+--------+--------+--------+--------+--------+--------+--------+--------+--------+--------+-------+-------+-----+-------+-------+------+--------+-------+-------+--------+--------+--------+--------+--------+--------+--------+--------+--------+--------+--------+--------+--------+--------+--------+--------+--------+--------+--------+--------+--------+--------+--------+--------+-------+-------+-------+------+------+------+------+-------+-------+-------+--------+-------+-----+-------+-------+-------+-------+-------+-------+-------+-------+-----+-------+-------+------+------+-------+------+-------+-------+-------+------+------+--------+--------+--------+--------+--------+-------+--------+-------+-------+--------+-------+--------+--------+-------+--------+--------+--------+-------+-------+-------+--------+--------+--------+--------+--------+-------+--------+-------+-------+--------+-------+--------+--------+-------+--------+--------+--------+-------+------+-------+----+-------+-------+-------+-------+-------+-------+-------+-------+-------+-------+-------+------+-------+-------+------+-------+-------+--------+--------+-------+-------+--------+------+--------+------+--------+-------+-------+-------+-------+--------+--------+--------+--------+--------+--------+--------+--------+--------+--------+--------+-------+-------+------+------+-------+-------+-------+-------+-------+-------+------+-------+-------+-------+-------+--------+-------+-------+-------+-------+-------+-------+-------+-------+--------+--------+--------+--------+-------+-------+-------+-------+-------+--------+--------+-------+-------+-------+-------+-------+-------+-------+-------+-------+-------+-------+--------+-------+-------+------+-------+-----+-----+------+-----+-----+------+-------+-------+-------+-------+-------+-------+-------+-------+-------+-------+-------+-------+--------+-------+-------+-------+-------+-------+-------+-------+-------+-------+-------+-------+-------+-------+-------+--------+--------+-------+-------+-------+-------+-------+-------+-------+-------+-------+-------+-------+--------+--------+-------+-------+-------+-------+-------+-------+-------+-------+-------+--------+--------+-------+-------+--------+-------+-------+-------+-------+-------+-------+-------+-------+-------+-------+-------+-------+-------+-------+-------+-------+-------+-------+-------+-------+-------+-------+-------+-------+-------+-------+-------+-----+----+-----+-----+-----+-----+-----+-----+-----+-----+------+------+------+-----+----+------+------+------+------+------+------+------+------+-------+-------+-------+-------+-------+-------+-------+-------+-------+-------+-------+--------+--------+--------+-------+-------+--------+--------+------+-------+--------+-------+-------+--------+--------+--------+--------+--------+--------+--------+--------+------+-------+------+------+-------+------+-------+-------+-------+-------+-------+-------+-------+-------+-------+--------+-------+-------+-------+-------+-------+-------+-------+-------+-------+-------+-------+-------+-------+-------+-------+-------+-------+------+-----+-----+------+------+-----+----+-----+-----+------+------+-----+-----+-------+-------+------+-------+-------+-------+------+-------+-----+-----+------+--------+-------+-----+------+------+-------+------+-------+------+-------+-------+-----+--------+--------+-------+--------+-------+--------+--------+--------+--------+--------+--------+--------+--------+--------+---------+--------+--------+--------+--------+--------+--------+--------+--------+--------+--------+--------+--------+--------+--------+--------+--------+--------+------+------+-------+-------+------+-----+------+------+-------+------+-------+-------+------+------+-------+-------+-------+-------+--------+-------+--------+--------+--------+--------+--------+--------+--------+--------+--------+---------+--------+--------+--------+--------+--------+--------+--------+--------+--------+--------+--------+--------+--------+--------+--------+--------+--------+-------+-------+--------+-------+--------+--------+--------+--------+--------+--------+--------+--------+--------+---------+--------+--------+--------+--------+--------+--------+--------+--------+--------+--------+--------+--------+--------+--------+--------+--------+--------+-------+-------+-------+--------+--------+-------+------+--------+--------+--------+--------+--------+--------+--------+--------+--------+--------+--------+--------+--------+--------+--------+--------+--------+--------+-------+--------+-------+-------+-------+-------+-------+-------+-------+-------+-------+-------+--------+-------+--------+------+-----+-------------------+-------------------+-------------------+-------------------+-------------------+-------------------+-------------------+-------------------+-------------------+-------------------+-------------------+-----+-------------------+-------------------+-------------------+-----+----+------+------------+-------+---+\n",
            "only showing top 5 rows\n",
            "\n"
          ]
        }
      ]
    },
    {
      "cell_type": "code",
      "source": [
        "columns_of_interest = [\n",
        "    \"cntry\",      # Країна\n",
        "    \"agea\",       # Вік\n",
        "    \"gndr\",       # Стать\n",
        "    \"edulvlb\",    # Освітній рівень\n",
        "    \"hinctnta\",   # Доходи\n",
        "    \"fltdpr\",     # Відчуття депресії\n",
        "    \"stflife\",    # Задоволеність життям\n",
        "    \"health\"      # Самооцінка здоров'я\n",
        "]\n",
        "\n",
        "\n",
        "selected_df = df.select(columns_of_interest)\n",
        "\n",
        "selected_df.show(5)\n",
        "\n"
      ],
      "metadata": {
        "colab": {
          "base_uri": "https://localhost:8080/"
        },
        "id": "iSmmQZWJgpH7",
        "outputId": "14e6b33b-9d16-49a2-f486-d5e9b287fc69"
      },
      "execution_count": 17,
      "outputs": [
        {
          "output_type": "stream",
          "name": "stdout",
          "text": [
            "+-----+----+----+-------+--------+------+-------+------+\n",
            "|cntry|agea|gndr|edulvlb|hinctnta|fltdpr|stflife|health|\n",
            "+-----+----+----+-------+--------+------+-------+------+\n",
            "|   AT|  65|   1|    322|       6|     1|      8|     3|\n",
            "|   AT|  21|   2|    423|       1|     2|      9|     2|\n",
            "|   AT|  53|   2|    610|       5|     2|     10|     1|\n",
            "|   AT|  78|   2|    422|       2|     2|      7|     3|\n",
            "|   AT|  64|   1|    322|      77|     1|      9|     2|\n",
            "+-----+----+----+-------+--------+------+-------+------+\n",
            "only showing top 5 rows\n",
            "\n"
          ]
        }
      ]
    },
    {
      "cell_type": "code",
      "source": [
        "print(df.columns)"
      ],
      "metadata": {
        "colab": {
          "base_uri": "https://localhost:8080/"
        },
        "id": "qVpmyQbziXqF",
        "outputId": "d7ac2703-ec10-42f4-99cc-f39f04aca2b2"
      },
      "execution_count": 18,
      "outputs": [
        {
          "output_type": "stream",
          "name": "stdout",
          "text": [
            "['name', 'essround', 'edition', 'proddate', 'idno', 'cntry', 'dweight', 'pspwght', 'pweight', 'anweight', 'nwspol', 'netusoft', 'netustm', 'ppltrst', 'pplfair', 'pplhlp', 'polintr', 'psppsgva', 'actrolga', 'psppipla', 'cptppola', 'trstprl', 'trstlgl', 'trstplc', 'trstplt', 'trstprt', 'trstep', 'trstun', 'vote', 'prtvtdat', 'prtvtebe', 'prtvtchr', 'prtvtccy', 'prtvtffi', 'prtvtffr', 'prtvgde1', 'prtvgde2', 'prtvtegr', 'prtvthhu', 'prtvteis', 'prtvteie', 'prtvteit', 'prtvclt1', 'prtvclt2', 'prtvclt3', 'prtvtinl', 'prtvtcno', 'prtvtfpl', 'prtvtept', 'prtvtbrs', 'prtvtesk', 'prtvtgsi', 'prtvtges', 'prtvtdse', 'prtvthch', 'prtvtdgb', 'contplt', 'donprty', 'badge', 'sgnptit', 'pbldmna', 'bctprd', 'pstplonl', 'volunfp', 'clsprty', 'prtcleat', 'prtclebe', 'prtclbhr', 'prtclccy', 'prtclgfi', 'prtclgfr', 'prtclgde', 'prtclegr', 'prtclihu', 'prtcleis', 'prtclfie', 'prtclfit', 'prtclclt', 'prtclhnl', 'prtclcno', 'prtcljpl', 'prtclgpt', 'prtclbrs', 'prtclesk', 'prtclgsi', 'prtclhes', 'prtcldse', 'prtclhch', 'prtcldgb', 'prtdgcl', 'lrscale', 'stflife', 'stfeco', 'stfgov', 'stfdem', 'stfedu', 'stfhlth', 'gincdif', 'freehms', 'hmsfmlsh', 'hmsacld', 'euftf', 'lrnobed', 'loylead', 'imsmetn', 'imdfetn', 'impcntr', 'imbgeco', 'imueclt', 'imwbcnt', 'happy', 'sclmeet', 'inprdsc', 'sclact', 'crmvct', 'aesfdrk', 'health', 'hlthhmp', 'atchctr', 'atcherp', 'rlgblg', 'rlgdnm', 'rlgdnbat', 'rlgdnacy', 'rlgdnafi', 'rlgdnade', 'rlgdnagr', 'rlgdnhu', 'rlgdnais', 'rlgdnie', 'rlgdnlt', 'rlgdnanl', 'rlgdnno', 'rlgdnapl', 'rlgdnapt', 'rlgdnrs', 'rlgdnask', 'rlgdnase', 'rlgdnach', 'rlgdngb', 'rlgblge', 'rlgdnme', 'rlgdebat', 'rlgdeacy', 'rlgdeafi', 'rlgdeade', 'rlgdeagr', 'rlgdehu', 'rlgdeais', 'rlgdeie', 'rlgdelt', 'rlgdeanl', 'rlgdeno', 'rlgdeapl', 'rlgdeapt', 'rlgders', 'rlgdeask', 'rlgdease', 'rlgdeach', 'rlgdegb', 'rlgdgr', 'rlgatnd', 'pray', 'dscrgrp', 'dscrrce', 'dscrntn', 'dscrrlg', 'dscrlng', 'dscretn', 'dscrage', 'dscrgnd', 'dscrsex', 'dscrdsb', 'dscroth', 'dscrdk', 'dscrref', 'dscrnap', 'dscrna', 'ctzcntr', 'brncntr', 'cntbrthd', 'livecnta', 'lnghom1', 'lnghom2', 'feethngr', 'facntr', 'fbrncntc', 'mocntr', 'mbrncntc', 'ccnthum', 'ccrdprs', 'wrclmch', 'admrclc', 'testjc34', 'testjc35', 'testjc36', 'testjc37', 'testjc38', 'testjc39', 'testjc40', 'testjc41', 'testjc42', 'vteurmmb', 'vteubcmb', 'ctrlife', 'etfruit', 'eatveg', 'dosprt', 'cgtsmok', 'alcfreq', 'alcwkdy', 'alcwknd', 'icgndra', 'alcbnge', 'height', 'weighta', 'dshltgp', 'dshltms', 'dshltnt', 'dshltref', 'dshltdk', 'dshltna', 'medtrun', 'medtrnp', 'medtrnt', 'medtroc', 'medtrnl', 'medtrwl', 'medtrnaa', 'medtroth', 'medtrnap', 'medtrref', 'medtrdk', 'medtrna', 'medtrnu', 'hlpfmly', 'hlpfmhr', 'trhltacu', 'trhltacp', 'trhltcm', 'trhltch', 'trhltos', 'trhltho', 'trhltht', 'trhlthy', 'trhltmt', 'trhltpt', 'trhltre', 'trhltsh', 'trhltnt', 'trhltref', 'trhltdk', 'trhltna', 'fltdpr', 'flteeff', 'slprl', 'wrhpp', 'fltlnl', 'enjlf', 'fltsd', 'cldgng', 'hltprhc', 'hltprhb', 'hltprbp', 'hltpral', 'hltprbn', 'hltprpa', 'hltprpf', 'hltprsd', 'hltprsc', 'hltprsh', 'hltprdi', 'hltprnt', 'hltprref', 'hltprdk', 'hltprna', 'hltphhc', 'hltphhb', 'hltphbp', 'hltphal', 'hltphbn', 'hltphpa', 'hltphpf', 'hltphsd', 'hltphsc', 'hltphsh', 'hltphdi', 'hltphnt', 'hltphnap', 'hltphref', 'hltphdk', 'hltphna', 'hltprca', 'cancfre', 'cnfpplh', 'fnsdfml', 'jbexpvi', 'jbexpti', 'jbexpml', 'jbexpmc', 'jbexpnt', 'jbexpnap', 'jbexpref', 'jbexpdk', 'jbexpna', 'jbexevl', 'jbexevh', 'jbexevc', 'jbexera', 'jbexecp', 'jbexebs', 'jbexent', 'jbexenap', 'jbexeref', 'jbexedk', 'jbexena', 'nobingnd', 'likrisk', 'liklead', 'sothnds', 'actcomp', 'mascfel', 'femifel', 'impbemw', 'trmedmw', 'trwrkmw', 'trplcmw', 'trmdcnt', 'trwkcnt', 'trplcnt', 'eqwrkbg', 'eqpolbg', 'eqmgmbg', 'eqpaybg', 'eqparep', 'eqparlv', 'freinsw', 'fineqpy', 'wsekpwr', 'weasoff', 'wlespdm', 'wexashr', 'wprtbym', 'wbrgwrm', 'hhmmb', 'gndr', 'gndr2', 'gndr3', 'gndr4', 'gndr5', 'gndr6', 'gndr7', 'gndr8', 'gndr9', 'gndr10', 'gndr11', 'gndr12', 'yrbrn', 'agea', 'yrbrn2', 'yrbrn3', 'yrbrn4', 'yrbrn5', 'yrbrn6', 'yrbrn7', 'yrbrn8', 'yrbrn9', 'yrbrn10', 'yrbrn11', 'yrbrn12', 'rshipa2', 'rshipa3', 'rshipa4', 'rshipa5', 'rshipa6', 'rshipa7', 'rshipa8', 'rshipa9', 'rshipa10', 'rshipa11', 'rshipa12', 'rshpsts', 'rshpsgb', 'lvgptnea', 'dvrcdeva', 'marsts', 'marstgb', 'maritalb', 'chldhhe', 'domicil', 'paccmoro', 'paccdwlr', 'pacclift', 'paccnbsh', 'paccocrw', 'paccxhoc', 'paccnois', 'paccinro', 'paccnt', 'paccref', 'paccdk', 'paccna', 'edulvlb', 'eisced', 'edlveat', 'edlvebe', 'edlvehr', 'edlvgcy', 'edlvdfi', 'edlvdfr', 'edudde1', 'educde2', 'edlvegr', 'edlvdahu', 'edlvdis', 'edlvdie', 'edlvfit', 'edlvdlt', 'edlvenl', 'edlveno', 'edlvipl', 'edlvept', 'edlvdrs', 'edlvdsk', 'edlvesi', 'edlvies', 'edlvdse', 'edlvdch', 'educgb1', 'edubgb2', 'edagegb', 'eduyrs', 'pdwrk', 'edctn', 'uempla', 'uempli', 'dsbld', 'rtrd', 'cmsrv', 'hswrk', 'dngoth', 'dngref', 'dngdk', 'dngna', 'mainact', 'mnactic', 'crpdwk', 'pdjobev', 'pdjobyr', 'emplrel', 'emplno', 'wrkctra', 'estsz', 'jbspv', 'njbspv', 'wkdcorga', 'iorgact', 'wkhct', 'wkhtot', 'nacer2', 'tporgwk', 'isco08', 'wrkac6m', 'uemp3m', 'uemp12m', 'uemp5yr', 'mbtru', 'hincsrca', 'hinctnta', 'hincfel', 'edulvlpb', 'eiscedp', 'edlvpfat', 'edlvpebe', 'edlvpehr', 'edlvpgcy', 'edlvpdfi', 'edlvpdfr', 'edupdde1', 'edupcde2', 'edlvpegr', 'edlvpdahu', 'edlvpdis', 'edlvpdie', 'edlvpfit', 'edlvpdlt', 'edlvpenl', 'edlvpeno', 'edlvphpl', 'edlvpept', 'edlvpdrs', 'edlvpdsk', 'edlvpesi', 'edlvphes', 'edlvpdse', 'edlvpdch', 'edupcgb1', 'edupbgb2', 'edagepgb', 'pdwrkp', 'edctnp', 'uemplap', 'uemplip', 'dsbldp', 'rtrdp', 'cmsrvp', 'hswrkp', 'dngothp', 'dngdkp', 'dngnapp', 'dngrefp', 'dngnap', 'mnactp', 'crpdwkp', 'isco08p', 'emprelp', 'wkhtotp', 'edulvlfb', 'eiscedf', 'edlvfeat', 'edlvfebe', 'edlvfehr', 'edlvfgcy', 'edlvfdfi', 'edlvfdfr', 'edufcde1', 'edufbde2', 'edlvfegr', 'edlvfdahu', 'edlvfdis', 'edlvfdie', 'edlvffit', 'edlvfdlt', 'edlvfenl', 'edlvfeno', 'edlvfgpl', 'edlvfept', 'edlvfdrs', 'edlvfdsk', 'edlvfesi', 'edlvfges', 'edlvfdse', 'edlvfdch', 'edufcgb1', 'edufbgb2', 'edagefgb', 'emprf14', 'occf14b', 'edulvlmb', 'eiscedm', 'edlvmeat', 'edlvmebe', 'edlvmehr', 'edlvmgcy', 'edlvmdfi', 'edlvmdfr', 'edumcde1', 'edumbde2', 'edlvmegr', 'edlvmdahu', 'edlvmdis', 'edlvmdie', 'edlvmfit', 'edlvmdlt', 'edlvmenl', 'edlvmeno', 'edlvmgpl', 'edlvmept', 'edlvmdrs', 'edlvmdsk', 'edlvmesi', 'edlvmges', 'edlvmdse', 'edlvmdch', 'edumcgb1', 'edumbgb2', 'edagemgb', 'emprm14', 'occm14b', 'atncrse', 'anctrya1', 'anctrya2', 'regunit', 'region', 'ipcrtiva', 'impricha', 'ipeqopta', 'ipshabta', 'impsafea', 'impdiffa', 'ipfrulea', 'ipudrsta', 'ipmodsta', 'ipgdtima', 'impfreea', 'iphlppla', 'ipsucesa', 'ipstrgva', 'ipadvnta', 'ipbhprpa', 'iprspota', 'iplylfra', 'impenva', 'imptrada', 'impfuna', 'testji1', 'testji2', 'testji3', 'testji4', 'testji5', 'testji6', 'testji7', 'testji8', 'testji9', 'respc19a', 'symtc19', 'symtnc19', 'vacc19', 'recon', 'inwds', 'ainws', 'ainwe', 'binwe', 'cinwe', 'dinwe', 'einwe', 'finwe', 'hinwe', 'iinwe', 'kinwe', 'rinwe', 'inwde', 'jinws', 'jinwe', 'inwtm', 'mode', 'domain', 'prob', 'stratum', 'psu']\n"
          ]
        }
      ]
    },
    {
      "cell_type": "code",
      "source": [
        "clean_df = selected_df.na.drop().dropDuplicates()\n",
        "print(f\"Кількість записів після очищення: {clean_df.count()}\")\n"
      ],
      "metadata": {
        "colab": {
          "base_uri": "https://localhost:8080/"
        },
        "id": "i9qPfWy8jnY_",
        "outputId": "2e9a448d-37df-4ef2-b8a7-bfe871f1b75c"
      },
      "execution_count": 25,
      "outputs": [
        {
          "output_type": "stream",
          "name": "stdout",
          "text": [
            "Кількість записів після очищення: 39638\n"
          ]
        }
      ]
    },
    {
      "cell_type": "markdown",
      "source": [
        "Фаза 1\n"
      ],
      "metadata": {
        "id": "nYlzIx93mKOr"
      }
    },
    {
      "cell_type": "code",
      "source": [
        "from pyspark.sql.functions import when, col\n",
        "#Mapper-функція\n",
        "clean_df = clean_df.withColumn(\n",
        "    \"age_group\",\n",
        "    when(col(\"agea\") < 30, \"Under 30\")\n",
        "    .when((col(\"agea\") >= 30) & (col(\"agea\") < 50), \"30-49\")\n",
        "    .when(col(\"agea\") >= 50, \"50+\")\n",
        "    .otherwise(\"Unknown\")\n",
        ")\n",
        "\n",
        "clean_df.select(\"agea\", \"age_group\").show(10)\n"
      ],
      "metadata": {
        "colab": {
          "base_uri": "https://localhost:8080/"
        },
        "id": "EMskgxJ1k8eo",
        "outputId": "fb91ec68-f4a3-482f-9db7-5c9217c5936b"
      },
      "execution_count": 26,
      "outputs": [
        {
          "output_type": "stream",
          "name": "stdout",
          "text": [
            "+----+---------+\n",
            "|agea|age_group|\n",
            "+----+---------+\n",
            "|  47|    30-49|\n",
            "|  70|      50+|\n",
            "|  50|      50+|\n",
            "|  33|    30-49|\n",
            "|  76|      50+|\n",
            "|  25| Under 30|\n",
            "|  49|    30-49|\n",
            "|  56|      50+|\n",
            "|  24| Under 30|\n",
            "|  20| Under 30|\n",
            "+----+---------+\n",
            "only showing top 10 rows\n",
            "\n"
          ]
        }
      ]
    },
    {
      "cell_type": "markdown",
      "source": [
        "Фаза 2"
      ],
      "metadata": {
        "id": "UH7dEv9tmR4p"
      }
    },
    {
      "cell_type": "code",
      "source": [
        "# Групування за віковими групами та обчислення середнього рівня депресії\n",
        "avg_depression_by_age = clean_df.groupBy(\"age_group\").agg(\n",
        "    {\"fltdpr\": \"avg\"}\n",
        ").withColumnRenamed(\"avg(fltdpr)\", \"avg_depression\")\n",
        "\n",
        "avg_depression_by_age.show()\n"
      ],
      "metadata": {
        "colab": {
          "base_uri": "https://localhost:8080/"
        },
        "id": "eMka5DX0l7GU",
        "outputId": "33d1d62c-e6d2-451f-83e3-73a11e4e2c8b"
      },
      "execution_count": 27,
      "outputs": [
        {
          "output_type": "stream",
          "name": "stdout",
          "text": [
            "+---------+------------------+\n",
            "|age_group|    avg_depression|\n",
            "+---------+------------------+\n",
            "|    30-49| 1.409179936983735|\n",
            "|      50+|1.4867260660060004|\n",
            "| Under 30|1.4351365100898763|\n",
            "+---------+------------------+\n",
            "\n"
          ]
        }
      ]
    },
    {
      "cell_type": "code",
      "source": [
        "# Групування за статтю\n",
        "avg_depression_by_gender = clean_df.groupBy(\"gndr\").agg(\n",
        "    {\"fltdpr\": \"avg\"}\n",
        ").withColumnRenamed(\"avg(fltdpr)\", \"avg_depression\")\n",
        "\n",
        "avg_depression_by_gender.show()\n"
      ],
      "metadata": {
        "colab": {
          "base_uri": "https://localhost:8080/"
        },
        "id": "NrF0Wu4cmdjL",
        "outputId": "3d1765d7-d21e-40cf-efd1-66e1dd1656e2"
      },
      "execution_count": 28,
      "outputs": [
        {
          "output_type": "stream",
          "name": "stdout",
          "text": [
            "+----+------------------+\n",
            "|gndr|    avg_depression|\n",
            "+----+------------------+\n",
            "|   1|1.3799211535345899|\n",
            "|   2|1.5228445622839828|\n",
            "+----+------------------+\n",
            "\n"
          ]
        }
      ]
    },
    {
      "cell_type": "code",
      "source": [
        "# Групування за рівнем освіти\n",
        "avg_depression_by_education = clean_df.groupBy(\"edulvlb\").agg(\n",
        "    {\"fltdpr\": \"avg\"}\n",
        ").withColumnRenamed(\"avg(fltdpr)\", \"avg_depression\")\n",
        "\n",
        "avg_depression_by_education.show()\n"
      ],
      "metadata": {
        "colab": {
          "base_uri": "https://localhost:8080/"
        },
        "id": "w5eSjSq5mhCg",
        "outputId": "772f9577-bb07-406d-98bd-032f687d0d4f"
      },
      "execution_count": 29,
      "outputs": [
        {
          "output_type": "stream",
          "name": "stdout",
          "text": [
            "+-------+------------------+\n",
            "|edulvlb|    avg_depression|\n",
            "+-------+------------------+\n",
            "|    322|1.4230769230769231|\n",
            "|    321|1.5309419496166483|\n",
            "|    412|1.2777777777777777|\n",
            "|    223|2.2432432432432434|\n",
            "|   8888|             2.025|\n",
            "|    222|1.5292207792207793|\n",
            "|    212|1.5318840579710145|\n",
            "|   5555| 1.426356589147287|\n",
            "|    620|1.3894023413431915|\n",
            "|    423|1.4481086323957324|\n",
            "|    610| 1.365878725590956|\n",
            "|    800|1.2991071428571428|\n",
            "|    229| 1.653907496012759|\n",
            "|    520|1.3827795975666823|\n",
            "|    720|1.3314917127071824|\n",
            "|    129|1.3846153846153846|\n",
            "|    312| 1.368421052631579|\n",
            "|    510|               1.3|\n",
            "|    113|1.6324543610547668|\n",
            "|    710|1.3108935128518973|\n",
            "+-------+------------------+\n",
            "only showing top 20 rows\n",
            "\n"
          ]
        }
      ]
    },
    {
      "cell_type": "code",
      "source": [
        "#Pandas\n",
        "pandas_df = avg_depression_by_age.toPandas()"
      ],
      "metadata": {
        "id": "1ReVZcb-ozLb"
      },
      "execution_count": 30,
      "outputs": []
    },
    {
      "cell_type": "code",
      "source": [
        "import matplotlib.pyplot as plt\n",
        "\n",
        "plt.bar(pandas_df[\"age_group\"], pandas_df[\"avg_depression\"])\n",
        "plt.xlabel(\"Age Group\")\n",
        "plt.ylabel(\"Average Depression Level\")\n",
        "plt.title(\"Average Depression Level by Age Group\")\n",
        "plt.show()\n"
      ],
      "metadata": {
        "colab": {
          "base_uri": "https://localhost:8080/",
          "height": 472
        },
        "id": "ffS9j8uro989",
        "outputId": "d4c0e08d-d0ce-47e9-a06a-077617fbf0b4"
      },
      "execution_count": 31,
      "outputs": [
        {
          "output_type": "display_data",
          "data": {
            "text/plain": [
              "<Figure size 640x480 with 1 Axes>"
            ],
            "image/png": "[encoded data removed]"
          },
          "metadata": {}
        }
      ]
    },
    {
      "cell_type": "code",
      "source": [
        "# Аналіз середнього рівня депресії за статтю\n",
        "avg_depression_by_gender = clean_df.groupBy(\"gndr\").agg(\n",
        "    {\"fltdpr\": \"avg\"}\n",
        ").withColumnRenamed(\"avg(fltdpr)\", \"avg_depression\")\n",
        "\n",
        "avg_depression_by_gender.show()\n"
      ],
      "metadata": {
        "colab": {
          "base_uri": "https://localhost:8080/"
        },
        "id": "kWbNKBL1hPZM",
        "outputId": "9783bab3-720d-480d-887e-3342035f1e57"
      },
      "execution_count": 32,
      "outputs": [
        {
          "output_type": "stream",
          "name": "stdout",
          "text": [
            "+----+------------------+\n",
            "|gndr|    avg_depression|\n",
            "+----+------------------+\n",
            "|   1|1.3799211535345899|\n",
            "|   2|1.5228445622839828|\n",
            "+----+------------------+\n",
            "\n"
          ]
        }
      ]
    },
    {
      "cell_type": "code",
      "source": [
        "pandas_gender = avg_depression_by_gender.toPandas()\n",
        "\n",
        "import matplotlib.pyplot as plt\n",
        "\n",
        "plt.bar(pandas_gender[\"gndr\"], pandas_gender[\"avg_depression\"])\n",
        "plt.xlabel(\"Gender (1 = Male, 2 = Female)\")\n",
        "plt.ylabel(\"Average Depression Level\")\n",
        "plt.title(\"Average Depression Level by Gender\")\n",
        "plt.show()\n"
      ],
      "metadata": {
        "colab": {
          "base_uri": "https://localhost:8080/",
          "height": 472
        },
        "id": "vH_IkzeEnM5x",
        "outputId": "e1729202-c4cf-4f95-a337-ec2402756402"
      },
      "execution_count": 33,
      "outputs": [
        {
          "output_type": "display_data",
          "data": {
            "text/plain": [
              "<Figure size 640x480 with 1 Axes>"
            ],
            "image/png": "[encoded data removed]"
          },
          "metadata": {}
        }
      ]
    },
    {
      "cell_type": "code",
      "source": [
        "# Аналіз середнього рівня депресії за доходами\n",
        "avg_depression_by_income = clean_df.groupBy(\"hinctnta\").agg(\n",
        "    {\"fltdpr\": \"avg\"}\n",
        ").withColumnRenamed(\"avg(fltdpr)\", \"avg_depression\")\n",
        "\n",
        "avg_depression_by_income.show()\n"
      ],
      "metadata": {
        "colab": {
          "base_uri": "https://localhost:8080/"
        },
        "id": "iv2Nw5kEnY3_",
        "outputId": "e423328c-1357-4c98-809a-fbc4f1542bc6"
      },
      "execution_count": 34,
      "outputs": [
        {
          "output_type": "stream",
          "name": "stdout",
          "text": [
            "+--------+------------------+\n",
            "|hinctnta|    avg_depression|\n",
            "+--------+------------------+\n",
            "|       1|1.7641423357664234|\n",
            "|       6| 1.406501806057238|\n",
            "|       3|1.5330528846153846|\n",
            "|       5|1.4529239766081872|\n",
            "|      88|            1.4972|\n",
            "|       9| 1.311764705882353|\n",
            "|       4|1.4704355350447071|\n",
            "|       8|1.3183934807916182|\n",
            "|       7|1.3648461325200998|\n",
            "|      77|1.5027467659046607|\n",
            "|      10|1.3023512123438648|\n",
            "|       2| 1.603786342123056|\n",
            "|      99|1.8478260869565217|\n",
            "+--------+------------------+\n",
            "\n"
          ]
        }
      ]
    },
    {
      "cell_type": "code",
      "source": [
        "pandas_income = avg_depression_by_income.toPandas()\n",
        "\n",
        "plt.plot(pandas_income[\"hinctnta\"], pandas_income[\"avg_depression\"], marker='o')\n",
        "plt.xlabel(\"Income Levels\")\n",
        "plt.ylabel(\"Average Depression Level\")\n",
        "plt.title(\"Average Depression Level by Income\")\n",
        "plt.show()\n"
      ],
      "metadata": {
        "colab": {
          "base_uri": "https://localhost:8080/",
          "height": 472
        },
        "id": "10imm1wfnbV6",
        "outputId": "9ca8fe1e-121a-4e87-dbec-60bd76c8e2b5"
      },
      "execution_count": 35,
      "outputs": [
        {
          "output_type": "display_data",
          "data": {
            "text/plain": [
              "<Figure size 640x480 with 1 Axes>"
            ],
            "image/png": "[encoded data removed]"
          },
          "metadata": {}
        }
      ]
    },
    {
      "cell_type": "code",
      "source": [
        "correlation = clean_df.select(corr(\"health\", \"fltdpr\").alias(\"correlation\")).collect()[0][\"correlation\"]\n",
        "print(f\"Кореляція між здоров'ям і депресією: {correlation}\")\n"
      ],
      "metadata": {
        "colab": {
          "base_uri": "https://localhost:8080/"
        },
        "id": "INYBkEdwnmkJ",
        "outputId": "a42bfa13-993d-49d8-8754-a1f6f79d2b97"
      },
      "execution_count": 38,
      "outputs": [
        {
          "output_type": "stream",
          "name": "stdout",
          "text": [
            "Кореляція між здоров'ям і депресією: 0.29781491079215217\n"
          ]
        }
      ]
    },
    {
      "cell_type": "code",
      "source": [
        "clean_df = clean_df.withColumn(\n",
        "    \"income_group\",\n",
        "    when(col(\"hinctnta\") <= 3, \"Low Income\")\n",
        "    .when((col(\"hinctnta\") > 3) & (col(\"hinctnta\") <= 6), \"Middle Income\")\n",
        "    .otherwise(\"High Income\")\n",
        ")\n",
        "\n",
        "avg_depression_by_income_group = clean_df.groupBy(\"income_group\").agg(\n",
        "    {\"fltdpr\": \"avg\"}\n",
        ").withColumnRenamed(\"avg(fltdpr)\", \"avg_depression\")\n",
        "\n",
        "avg_depression_by_income_group.show()\n"
      ],
      "metadata": {
        "colab": {
          "base_uri": "https://localhost:8080/"
        },
        "id": "XKGCFXN5uOvz",
        "outputId": "f0e2e1d1-4ff6-4e72-ea9a-82360448d5a8"
      },
      "execution_count": 39,
      "outputs": [
        {
          "output_type": "stream",
          "name": "stdout",
          "text": [
            "+-------------+------------------+\n",
            "| income_group|    avg_depression|\n",
            "+-------------+------------------+\n",
            "|Middle Income|1.4427808506580202|\n",
            "|  High Income|1.3966334526458353|\n",
            "|   Low Income|1.6174805378627035|\n",
            "+-------------+------------------+\n",
            "\n"
          ]
        }
      ]
    },
    {
      "cell_type": "code",
      "source": [
        "avg_depression_by_gender_income = clean_df.groupBy(\"gndr\", \"income_group\").agg(\n",
        "    {\"fltdpr\": \"avg\"}\n",
        ").withColumnRenamed(\"avg(fltdpr)\", \"avg_depression\")\n",
        "\n",
        "avg_depression_by_gender_income.show()\n"
      ],
      "metadata": {
        "colab": {
          "base_uri": "https://localhost:8080/"
        },
        "id": "h69D7XO9uV0X",
        "outputId": "621d2b24-1a28-4d6c-b2a8-bb2a0388ee42"
      },
      "execution_count": 40,
      "outputs": [
        {
          "output_type": "stream",
          "name": "stdout",
          "text": [
            "+----+-------------+------------------+\n",
            "|gndr| income_group|    avg_depression|\n",
            "+----+-------------+------------------+\n",
            "|   1|  High Income|1.3284693269803454|\n",
            "|   1|Middle Income|1.3790991702884234|\n",
            "|   1|   Low Income|1.5344572611653358|\n",
            "|   2|Middle Income| 1.502212389380531|\n",
            "|   2|   Low Income|1.6725524818520698|\n",
            "|   2|  High Income|1.4614150943396227|\n",
            "+----+-------------+------------------+\n",
            "\n"
          ]
        }
      ]
    },
    {
      "cell_type": "code",
      "source": [
        "avg_depression_by_age.toPandas().to_csv(\"avg_depression_by_age.csv\", index=False)\n"
      ],
      "metadata": {
        "id": "pPzgDyYRuY8F"
      },
      "execution_count": 41,
      "outputs": []
    }
  ]
}